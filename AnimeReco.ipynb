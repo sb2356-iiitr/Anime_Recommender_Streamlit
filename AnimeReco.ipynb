{
 "cells": [
  {
   "cell_type": "code",
   "execution_count": 1,
   "id": "7f2a1d59",
   "metadata": {
    "_cell_guid": "b1076dfc-b9ad-4769-8c92-a6c4dae69d19",
    "_uuid": "8f2839f25d086af736a60e9eeb907d3b93b6e0e5",
    "execution": {
     "iopub.execute_input": "2025-09-20T23:27:50.553349Z",
     "iopub.status.busy": "2025-09-20T23:27:50.552740Z",
     "iopub.status.idle": "2025-09-20T23:27:50.569759Z",
     "shell.execute_reply": "2025-09-20T23:27:50.569032Z",
     "shell.execute_reply.started": "2025-09-20T23:15:19.227811Z"
    },
    "papermill": {
     "duration": 0.058375,
     "end_time": "2025-09-20T23:27:50.569938",
     "exception": false,
     "start_time": "2025-09-20T23:27:50.511563",
     "status": "completed"
    },
    "tags": []
   },
   "outputs": [
    {
     "name": "stdout",
     "output_type": "stream",
     "text": [
      "/kaggle/input/anime-data/anime_data1.csv\n"
     ]
    }
   ],
   "source": [
    "# This Python 3 environment comes with many helpful analytics libraries installed\n",
    "# It is defined by the kaggle/python Docker image: https://github.com/kaggle/docker-python\n",
    "# For example, here's several helpful packages to load\n",
    "\n",
    "import numpy as np # linear algebra\n",
    "import pandas as pd # data processing, CSV file I/O (e.g. pd.read_csv)\n",
    "\n",
    "# Input data files are available in the read-only \"../input/\" directory\n",
    "# For example, running this (by clicking run or pressing Shift+Enter) will list all files under the input directory\n",
    "\n",
    "import os\n",
    "for dirname, _, filenames in os.walk('/kaggle/input'):\n",
    "    for filename in filenames:\n",
    "        print(os.path.join(dirname, filename))\n",
    "\n",
    "# pd.set_option('display.max_rows', None)\n",
    "pd.set_option('display.max_columns', None)\n",
    "# You can write up to 20GB to the current directory (/kaggle/working/) that gets preserved as output when you create a version using \"Save & Run All\" \n",
    "# You can also write temporary files to /kaggle/temp/, but they won't be saved outside of the current session"
   ]
  },
  {
   "cell_type": "code",
   "execution_count": 2,
   "id": "bb0f0118",
   "metadata": {
    "execution": {
     "iopub.execute_input": "2025-09-20T23:27:50.639926Z",
     "iopub.status.busy": "2025-09-20T23:27:50.639225Z",
     "iopub.status.idle": "2025-09-20T23:27:50.841185Z",
     "shell.execute_reply": "2025-09-20T23:27:50.841668Z",
     "shell.execute_reply.started": "2025-09-20T23:15:19.238593Z"
    },
    "papermill": {
     "duration": 0.239164,
     "end_time": "2025-09-20T23:27:50.841887",
     "exception": false,
     "start_time": "2025-09-20T23:27:50.602723",
     "status": "completed"
    },
    "tags": []
   },
   "outputs": [
    {
     "data": {
      "text/html": [
       "<div>\n",
       "<style scoped>\n",
       "    .dataframe tbody tr th:only-of-type {\n",
       "        vertical-align: middle;\n",
       "    }\n",
       "\n",
       "    .dataframe tbody tr th {\n",
       "        vertical-align: top;\n",
       "    }\n",
       "\n",
       "    .dataframe thead th {\n",
       "        text-align: right;\n",
       "    }\n",
       "</style>\n",
       "<table border=\"1\" class=\"dataframe\">\n",
       "  <thead>\n",
       "    <tr style=\"text-align: right;\">\n",
       "      <th></th>\n",
       "      <th>MAL ID</th>\n",
       "      <th>Name</th>\n",
       "      <th>English Name</th>\n",
       "      <th>Image</th>\n",
       "      <th>Release/Air Date</th>\n",
       "      <th>Season</th>\n",
       "      <th>Type</th>\n",
       "      <th>No. of episodes</th>\n",
       "      <th>Synopsis</th>\n",
       "      <th>Genre</th>\n",
       "      <th>Themes</th>\n",
       "      <th>Demographic</th>\n",
       "      <th>Age Rating</th>\n",
       "      <th>Studio</th>\n",
       "      <th>Source</th>\n",
       "      <th>Followers</th>\n",
       "      <th>Popularity Rank</th>\n",
       "      <th>Score</th>\n",
       "    </tr>\n",
       "  </thead>\n",
       "  <tbody>\n",
       "    <tr>\n",
       "      <th>0</th>\n",
       "      <td>5114</td>\n",
       "      <td>Fullmetal Alchemist: Brotherhood</td>\n",
       "      <td>Fullmetal Alchemist: Brotherhood</td>\n",
       "      <td>https://cdn.myanimelist.net/images/anime/1223/...</td>\n",
       "      <td>2009-04-05</td>\n",
       "      <td>spring</td>\n",
       "      <td>TV</td>\n",
       "      <td>64.0</td>\n",
       "      <td>After a horrific alchemy experiment goes wrong...</td>\n",
       "      <td>['Action', 'Adventure', 'Comedy', 'Drama', 'Fa...</td>\n",
       "      <td>['Military']</td>\n",
       "      <td>['Shounen']</td>\n",
       "      <td>R - 17+ (violence &amp; profanity)</td>\n",
       "      <td>['Bones']</td>\n",
       "      <td>Manga</td>\n",
       "      <td>2777473</td>\n",
       "      <td>3</td>\n",
       "      <td>9.15</td>\n",
       "    </tr>\n",
       "    <tr>\n",
       "      <th>1</th>\n",
       "      <td>48583</td>\n",
       "      <td>Shingeki no Kyojin: The Final Season Part 2</td>\n",
       "      <td>Attack on Titan: The Final Season Part 2</td>\n",
       "      <td>https://cdn.myanimelist.net/images/anime/1948/...</td>\n",
       "      <td>2022-01-10</td>\n",
       "      <td>winter</td>\n",
       "      <td>TV</td>\n",
       "      <td>NaN</td>\n",
       "      <td>Turning against his former allies and enemies ...</td>\n",
       "      <td>['Action', 'Drama', 'Fantasy', 'Mystery']</td>\n",
       "      <td>['Military', 'SuperPower']</td>\n",
       "      <td>['Shounen']</td>\n",
       "      <td>R - 17+ (violence &amp; profanity)</td>\n",
       "      <td>['MAPPA']</td>\n",
       "      <td>Manga</td>\n",
       "      <td>642302</td>\n",
       "      <td>233</td>\n",
       "      <td>9.15</td>\n",
       "    </tr>\n",
       "    <tr>\n",
       "      <th>2</th>\n",
       "      <td>38524</td>\n",
       "      <td>Shingeki no Kyojin Season 3 Part 2</td>\n",
       "      <td>Attack on Titan Season 3 Part 2</td>\n",
       "      <td>https://cdn.myanimelist.net/images/anime/1517/...</td>\n",
       "      <td>2019-04-29</td>\n",
       "      <td>spring</td>\n",
       "      <td>TV</td>\n",
       "      <td>10.0</td>\n",
       "      <td>Seeking to restore humanity's diminishing hope...</td>\n",
       "      <td>['Action', 'Drama', 'Fantasy', 'Mystery']</td>\n",
       "      <td>['Military', 'SuperPower']</td>\n",
       "      <td>['Shounen']</td>\n",
       "      <td>R - 17+ (violence &amp; profanity)</td>\n",
       "      <td>['WitStudio']</td>\n",
       "      <td>Manga</td>\n",
       "      <td>1712024</td>\n",
       "      <td>32</td>\n",
       "      <td>9.09</td>\n",
       "    </tr>\n",
       "    <tr>\n",
       "      <th>3</th>\n",
       "      <td>9253</td>\n",
       "      <td>Steins;Gate</td>\n",
       "      <td>Steins;Gate</td>\n",
       "      <td>https://cdn.myanimelist.net/images/anime/5/731...</td>\n",
       "      <td>2011-04-06</td>\n",
       "      <td>spring</td>\n",
       "      <td>TV</td>\n",
       "      <td>24.0</td>\n",
       "      <td>The self-proclaimed mad scientist Rintarou Oka...</td>\n",
       "      <td>['Drama', 'Sci-Fi', 'Suspense']</td>\n",
       "      <td>['Psychological']</td>\n",
       "      <td>[]</td>\n",
       "      <td>PG-13 - Teens 13 or older</td>\n",
       "      <td>['WhiteFox']</td>\n",
       "      <td>Visual novel</td>\n",
       "      <td>2160257</td>\n",
       "      <td>13</td>\n",
       "      <td>9.09</td>\n",
       "    </tr>\n",
       "    <tr>\n",
       "      <th>4</th>\n",
       "      <td>28977</td>\n",
       "      <td>Gintama°</td>\n",
       "      <td>Gintama Season 4</td>\n",
       "      <td>https://cdn.myanimelist.net/images/anime/3/720...</td>\n",
       "      <td>2015-04-08</td>\n",
       "      <td>spring</td>\n",
       "      <td>TV</td>\n",
       "      <td>51.0</td>\n",
       "      <td>Gintoki, Shinpachi, and Kagura return as the f...</td>\n",
       "      <td>['Action', 'Comedy', 'Sci-Fi']</td>\n",
       "      <td>['Historical', 'Parody', 'Samurai']</td>\n",
       "      <td>['Shounen']</td>\n",
       "      <td>PG-13 - Teens 13 or older</td>\n",
       "      <td>['BandaiNamcoPictures']</td>\n",
       "      <td>Manga</td>\n",
       "      <td>505418</td>\n",
       "      <td>335</td>\n",
       "      <td>9.09</td>\n",
       "    </tr>\n",
       "  </tbody>\n",
       "</table>\n",
       "</div>"
      ],
      "text/plain": [
       "   MAL ID                                         Name  \\\n",
       "0    5114             Fullmetal Alchemist: Brotherhood   \n",
       "1   48583  Shingeki no Kyojin: The Final Season Part 2   \n",
       "2   38524           Shingeki no Kyojin Season 3 Part 2   \n",
       "3    9253                                  Steins;Gate   \n",
       "4   28977                                     Gintama°   \n",
       "\n",
       "                               English Name  \\\n",
       "0          Fullmetal Alchemist: Brotherhood   \n",
       "1  Attack on Titan: The Final Season Part 2   \n",
       "2           Attack on Titan Season 3 Part 2   \n",
       "3                               Steins;Gate   \n",
       "4                          Gintama Season 4   \n",
       "\n",
       "                                               Image Release/Air Date  Season  \\\n",
       "0  https://cdn.myanimelist.net/images/anime/1223/...       2009-04-05  spring   \n",
       "1  https://cdn.myanimelist.net/images/anime/1948/...       2022-01-10  winter   \n",
       "2  https://cdn.myanimelist.net/images/anime/1517/...       2019-04-29  spring   \n",
       "3  https://cdn.myanimelist.net/images/anime/5/731...       2011-04-06  spring   \n",
       "4  https://cdn.myanimelist.net/images/anime/3/720...       2015-04-08  spring   \n",
       "\n",
       "  Type  No. of episodes                                           Synopsis  \\\n",
       "0   TV             64.0  After a horrific alchemy experiment goes wrong...   \n",
       "1   TV              NaN  Turning against his former allies and enemies ...   \n",
       "2   TV             10.0  Seeking to restore humanity's diminishing hope...   \n",
       "3   TV             24.0  The self-proclaimed mad scientist Rintarou Oka...   \n",
       "4   TV             51.0  Gintoki, Shinpachi, and Kagura return as the f...   \n",
       "\n",
       "                                               Genre  \\\n",
       "0  ['Action', 'Adventure', 'Comedy', 'Drama', 'Fa...   \n",
       "1          ['Action', 'Drama', 'Fantasy', 'Mystery']   \n",
       "2          ['Action', 'Drama', 'Fantasy', 'Mystery']   \n",
       "3                    ['Drama', 'Sci-Fi', 'Suspense']   \n",
       "4                     ['Action', 'Comedy', 'Sci-Fi']   \n",
       "\n",
       "                                Themes  Demographic  \\\n",
       "0                         ['Military']  ['Shounen']   \n",
       "1           ['Military', 'SuperPower']  ['Shounen']   \n",
       "2           ['Military', 'SuperPower']  ['Shounen']   \n",
       "3                    ['Psychological']           []   \n",
       "4  ['Historical', 'Parody', 'Samurai']  ['Shounen']   \n",
       "\n",
       "                       Age Rating                   Studio        Source  \\\n",
       "0  R - 17+ (violence & profanity)                ['Bones']         Manga   \n",
       "1  R - 17+ (violence & profanity)                ['MAPPA']         Manga   \n",
       "2  R - 17+ (violence & profanity)            ['WitStudio']         Manga   \n",
       "3       PG-13 - Teens 13 or older             ['WhiteFox']  Visual novel   \n",
       "4       PG-13 - Teens 13 or older  ['BandaiNamcoPictures']         Manga   \n",
       "\n",
       "   Followers  Popularity Rank  Score  \n",
       "0    2777473                3   9.15  \n",
       "1     642302              233   9.15  \n",
       "2    1712024               32   9.09  \n",
       "3    2160257               13   9.09  \n",
       "4     505418              335   9.09  "
      ]
     },
     "execution_count": 2,
     "metadata": {},
     "output_type": "execute_result"
    }
   ],
   "source": [
    "anime = pd.read_csv('/kaggle/input/anime-data/anime_data1.csv')\n",
    "anime.head()"
   ]
  },
  {
   "cell_type": "code",
   "execution_count": 3,
   "id": "576d06e2",
   "metadata": {
    "execution": {
     "iopub.execute_input": "2025-09-20T23:27:50.920035Z",
     "iopub.status.busy": "2025-09-20T23:27:50.919319Z",
     "iopub.status.idle": "2025-09-20T23:27:50.923492Z",
     "shell.execute_reply": "2025-09-20T23:27:50.924024Z",
     "shell.execute_reply.started": "2025-09-20T23:15:19.354090Z"
    },
    "papermill": {
     "duration": 0.04705,
     "end_time": "2025-09-20T23:27:50.924213",
     "exception": false,
     "start_time": "2025-09-20T23:27:50.877163",
     "status": "completed"
    },
    "tags": []
   },
   "outputs": [
    {
     "data": {
      "text/plain": [
       "(5982, 18)"
      ]
     },
     "execution_count": 3,
     "metadata": {},
     "output_type": "execute_result"
    }
   ],
   "source": [
    "anime.shape"
   ]
  },
  {
   "cell_type": "markdown",
   "id": "2ce7ccb4",
   "metadata": {
    "papermill": {
     "duration": 0.035017,
     "end_time": "2025-09-20T23:27:50.991607",
     "exception": false,
     "start_time": "2025-09-20T23:27:50.956590",
     "status": "completed"
    },
    "tags": []
   },
   "source": [
    "### Columns to keep\n",
    "\n",
    "1. MAL Id\n",
    "2. Name\n",
    "3. English Name\n",
    "4. Image\n",
    "5. Synopsis\n",
    "6. Genre\n",
    "7. Themes\n",
    "8. Demographic\n",
    "9. Studio\n",
    "10. Score"
   ]
  },
  {
   "cell_type": "code",
   "execution_count": 4,
   "id": "c931ce4e",
   "metadata": {
    "execution": {
     "iopub.execute_input": "2025-09-20T23:27:51.089331Z",
     "iopub.status.busy": "2025-09-20T23:27:51.088575Z",
     "iopub.status.idle": "2025-09-20T23:27:51.093033Z",
     "shell.execute_reply": "2025-09-20T23:27:51.092390Z",
     "shell.execute_reply.started": "2025-09-20T23:15:19.362782Z"
    },
    "papermill": {
     "duration": 0.067099,
     "end_time": "2025-09-20T23:27:51.093174",
     "exception": false,
     "start_time": "2025-09-20T23:27:51.026075",
     "status": "completed"
    },
    "tags": []
   },
   "outputs": [
    {
     "name": "stdout",
     "output_type": "stream",
     "text": [
      "<class 'pandas.core.frame.DataFrame'>\n",
      "RangeIndex: 5982 entries, 0 to 5981\n",
      "Data columns (total 18 columns):\n",
      " #   Column            Non-Null Count  Dtype  \n",
      "---  ------            --------------  -----  \n",
      " 0   MAL ID            5982 non-null   int64  \n",
      " 1   Name              5982 non-null   object \n",
      " 2   English Name      4538 non-null   object \n",
      " 3   Image             5982 non-null   object \n",
      " 4   Release/Air Date  5982 non-null   object \n",
      " 5   Season            3582 non-null   object \n",
      " 6   Type              5982 non-null   object \n",
      " 7   No. of episodes   5853 non-null   float64\n",
      " 8   Synopsis          5936 non-null   object \n",
      " 9   Genre             5982 non-null   object \n",
      " 10  Themes            5982 non-null   object \n",
      " 11  Demographic       5982 non-null   object \n",
      " 12  Age Rating        5982 non-null   object \n",
      " 13  Studio            5982 non-null   object \n",
      " 14  Source            5982 non-null   object \n",
      " 15  Followers         5982 non-null   int64  \n",
      " 16  Popularity Rank   5982 non-null   int64  \n",
      " 17  Score             5982 non-null   float64\n",
      "dtypes: float64(2), int64(3), object(13)\n",
      "memory usage: 841.3+ KB\n"
     ]
    }
   ],
   "source": [
    "anime.info()"
   ]
  },
  {
   "cell_type": "code",
   "execution_count": 5,
   "id": "e3c69c5c",
   "metadata": {
    "execution": {
     "iopub.execute_input": "2025-09-20T23:27:51.172041Z",
     "iopub.status.busy": "2025-09-20T23:27:51.171006Z",
     "iopub.status.idle": "2025-09-20T23:27:51.173829Z",
     "shell.execute_reply": "2025-09-20T23:27:51.173326Z",
     "shell.execute_reply.started": "2025-09-20T23:15:19.391274Z"
    },
    "papermill": {
     "duration": 0.047532,
     "end_time": "2025-09-20T23:27:51.173972",
     "exception": false,
     "start_time": "2025-09-20T23:27:51.126440",
     "status": "completed"
    },
    "tags": []
   },
   "outputs": [],
   "source": [
    "anime_copy = anime[['MAL ID', 'Name', 'English Name', 'Image', 'Synopsis', 'Genre', 'Themes', 'Demographic', 'Studio', 'Score']]"
   ]
  },
  {
   "cell_type": "code",
   "execution_count": 6,
   "id": "0f952a5a",
   "metadata": {
    "execution": {
     "iopub.execute_input": "2025-09-20T23:27:51.249427Z",
     "iopub.status.busy": "2025-09-20T23:27:51.243537Z",
     "iopub.status.idle": "2025-09-20T23:27:51.261027Z",
     "shell.execute_reply": "2025-09-20T23:27:51.260326Z",
     "shell.execute_reply.started": "2025-09-20T23:15:19.401639Z"
    },
    "papermill": {
     "duration": 0.054292,
     "end_time": "2025-09-20T23:27:51.261188",
     "exception": false,
     "start_time": "2025-09-20T23:27:51.206896",
     "status": "completed"
    },
    "tags": []
   },
   "outputs": [
    {
     "name": "stdout",
     "output_type": "stream",
     "text": [
      "<class 'pandas.core.frame.DataFrame'>\n",
      "RangeIndex: 5982 entries, 0 to 5981\n",
      "Data columns (total 10 columns):\n",
      " #   Column        Non-Null Count  Dtype  \n",
      "---  ------        --------------  -----  \n",
      " 0   MAL ID        5982 non-null   int64  \n",
      " 1   Name          5982 non-null   object \n",
      " 2   English Name  4538 non-null   object \n",
      " 3   Image         5982 non-null   object \n",
      " 4   Synopsis      5936 non-null   object \n",
      " 5   Genre         5982 non-null   object \n",
      " 6   Themes        5982 non-null   object \n",
      " 7   Demographic   5982 non-null   object \n",
      " 8   Studio        5982 non-null   object \n",
      " 9   Score         5982 non-null   float64\n",
      "dtypes: float64(1), int64(1), object(8)\n",
      "memory usage: 467.5+ KB\n"
     ]
    }
   ],
   "source": [
    "anime_copy.info()"
   ]
  },
  {
   "cell_type": "markdown",
   "id": "5cef2657",
   "metadata": {
    "papermill": {
     "duration": 0.033106,
     "end_time": "2025-09-20T23:27:51.328213",
     "exception": false,
     "start_time": "2025-09-20T23:27:51.295107",
     "status": "completed"
    },
    "tags": []
   },
   "source": [
    "From here we will make "
   ]
  },
  {
   "cell_type": "code",
   "execution_count": 7,
   "id": "9fa77646",
   "metadata": {
    "execution": {
     "iopub.execute_input": "2025-09-20T23:27:51.407260Z",
     "iopub.status.busy": "2025-09-20T23:27:51.406335Z",
     "iopub.status.idle": "2025-09-20T23:27:51.410204Z",
     "shell.execute_reply": "2025-09-20T23:27:51.410635Z",
     "shell.execute_reply.started": "2025-09-20T23:15:19.425004Z"
    },
    "papermill": {
     "duration": 0.049772,
     "end_time": "2025-09-20T23:27:51.410831",
     "exception": false,
     "start_time": "2025-09-20T23:27:51.361059",
     "status": "completed"
    },
    "tags": []
   },
   "outputs": [
    {
     "data": {
      "text/plain": [
       "MAL ID             0\n",
       "Name               0\n",
       "English Name    1444\n",
       "Image              0\n",
       "Synopsis          46\n",
       "Genre              0\n",
       "Themes             0\n",
       "Demographic        0\n",
       "Studio             0\n",
       "Score              0\n",
       "dtype: int64"
      ]
     },
     "execution_count": 7,
     "metadata": {},
     "output_type": "execute_result"
    }
   ],
   "source": [
    "anime_copy.isna().sum()"
   ]
  },
  {
   "cell_type": "code",
   "execution_count": 8,
   "id": "0e921967",
   "metadata": {
    "execution": {
     "iopub.execute_input": "2025-09-20T23:27:51.484979Z",
     "iopub.status.busy": "2025-09-20T23:27:51.484291Z",
     "iopub.status.idle": "2025-09-20T23:27:51.490387Z",
     "shell.execute_reply": "2025-09-20T23:27:51.489707Z",
     "shell.execute_reply.started": "2025-09-20T23:15:19.442343Z"
    },
    "papermill": {
     "duration": 0.04547,
     "end_time": "2025-09-20T23:27:51.490538",
     "exception": false,
     "start_time": "2025-09-20T23:27:51.445068",
     "status": "completed"
    },
    "tags": []
   },
   "outputs": [],
   "source": [
    "anime_copy = anime_copy[anime_copy['Synopsis'].notna()]"
   ]
  },
  {
   "cell_type": "code",
   "execution_count": 9,
   "id": "701a3c01",
   "metadata": {
    "execution": {
     "iopub.execute_input": "2025-09-20T23:27:51.565734Z",
     "iopub.status.busy": "2025-09-20T23:27:51.565039Z",
     "iopub.status.idle": "2025-09-20T23:27:51.571949Z",
     "shell.execute_reply": "2025-09-20T23:27:51.572411Z",
     "shell.execute_reply.started": "2025-09-20T23:15:19.454429Z"
    },
    "papermill": {
     "duration": 0.048594,
     "end_time": "2025-09-20T23:27:51.572585",
     "exception": false,
     "start_time": "2025-09-20T23:27:51.523991",
     "status": "completed"
    },
    "tags": []
   },
   "outputs": [
    {
     "data": {
      "text/plain": [
       "MAL ID             0\n",
       "Name               0\n",
       "English Name    1406\n",
       "Image              0\n",
       "Synopsis           0\n",
       "Genre              0\n",
       "Themes             0\n",
       "Demographic        0\n",
       "Studio             0\n",
       "Score              0\n",
       "dtype: int64"
      ]
     },
     "execution_count": 9,
     "metadata": {},
     "output_type": "execute_result"
    }
   ],
   "source": [
    "anime_copy.isna().sum()"
   ]
  },
  {
   "cell_type": "code",
   "execution_count": 10,
   "id": "98c0d491",
   "metadata": {
    "execution": {
     "iopub.execute_input": "2025-09-20T23:27:51.655459Z",
     "iopub.status.busy": "2025-09-20T23:27:51.654435Z",
     "iopub.status.idle": "2025-09-20T23:27:51.658071Z",
     "shell.execute_reply": "2025-09-20T23:27:51.658514Z",
     "shell.execute_reply.started": "2025-09-20T23:15:19.477369Z"
    },
    "papermill": {
     "duration": 0.052155,
     "end_time": "2025-09-20T23:27:51.658671",
     "exception": false,
     "start_time": "2025-09-20T23:27:51.606516",
     "status": "completed"
    },
    "tags": []
   },
   "outputs": [
    {
     "data": {
      "text/html": [
       "<div>\n",
       "<style scoped>\n",
       "    .dataframe tbody tr th:only-of-type {\n",
       "        vertical-align: middle;\n",
       "    }\n",
       "\n",
       "    .dataframe tbody tr th {\n",
       "        vertical-align: top;\n",
       "    }\n",
       "\n",
       "    .dataframe thead th {\n",
       "        text-align: right;\n",
       "    }\n",
       "</style>\n",
       "<table border=\"1\" class=\"dataframe\">\n",
       "  <thead>\n",
       "    <tr style=\"text-align: right;\">\n",
       "      <th></th>\n",
       "      <th>MAL ID</th>\n",
       "      <th>Name</th>\n",
       "      <th>English Name</th>\n",
       "      <th>Image</th>\n",
       "      <th>Synopsis</th>\n",
       "      <th>Genre</th>\n",
       "      <th>Themes</th>\n",
       "      <th>Demographic</th>\n",
       "      <th>Studio</th>\n",
       "      <th>Score</th>\n",
       "    </tr>\n",
       "  </thead>\n",
       "  <tbody>\n",
       "    <tr>\n",
       "      <th>0</th>\n",
       "      <td>5114</td>\n",
       "      <td>Fullmetal Alchemist: Brotherhood</td>\n",
       "      <td>Fullmetal Alchemist: Brotherhood</td>\n",
       "      <td>https://cdn.myanimelist.net/images/anime/1223/...</td>\n",
       "      <td>After a horrific alchemy experiment goes wrong...</td>\n",
       "      <td>['Action', 'Adventure', 'Comedy', 'Drama', 'Fa...</td>\n",
       "      <td>['Military']</td>\n",
       "      <td>['Shounen']</td>\n",
       "      <td>['Bones']</td>\n",
       "      <td>9.15</td>\n",
       "    </tr>\n",
       "    <tr>\n",
       "      <th>1</th>\n",
       "      <td>48583</td>\n",
       "      <td>Shingeki no Kyojin: The Final Season Part 2</td>\n",
       "      <td>Attack on Titan: The Final Season Part 2</td>\n",
       "      <td>https://cdn.myanimelist.net/images/anime/1948/...</td>\n",
       "      <td>Turning against his former allies and enemies ...</td>\n",
       "      <td>['Action', 'Drama', 'Fantasy', 'Mystery']</td>\n",
       "      <td>['Military', 'SuperPower']</td>\n",
       "      <td>['Shounen']</td>\n",
       "      <td>['MAPPA']</td>\n",
       "      <td>9.15</td>\n",
       "    </tr>\n",
       "    <tr>\n",
       "      <th>2</th>\n",
       "      <td>38524</td>\n",
       "      <td>Shingeki no Kyojin Season 3 Part 2</td>\n",
       "      <td>Attack on Titan Season 3 Part 2</td>\n",
       "      <td>https://cdn.myanimelist.net/images/anime/1517/...</td>\n",
       "      <td>Seeking to restore humanity's diminishing hope...</td>\n",
       "      <td>['Action', 'Drama', 'Fantasy', 'Mystery']</td>\n",
       "      <td>['Military', 'SuperPower']</td>\n",
       "      <td>['Shounen']</td>\n",
       "      <td>['WitStudio']</td>\n",
       "      <td>9.09</td>\n",
       "    </tr>\n",
       "    <tr>\n",
       "      <th>3</th>\n",
       "      <td>9253</td>\n",
       "      <td>Steins;Gate</td>\n",
       "      <td>Steins;Gate</td>\n",
       "      <td>https://cdn.myanimelist.net/images/anime/5/731...</td>\n",
       "      <td>The self-proclaimed mad scientist Rintarou Oka...</td>\n",
       "      <td>['Drama', 'Sci-Fi', 'Suspense']</td>\n",
       "      <td>['Psychological']</td>\n",
       "      <td>[]</td>\n",
       "      <td>['WhiteFox']</td>\n",
       "      <td>9.09</td>\n",
       "    </tr>\n",
       "    <tr>\n",
       "      <th>4</th>\n",
       "      <td>28977</td>\n",
       "      <td>Gintama°</td>\n",
       "      <td>Gintama Season 4</td>\n",
       "      <td>https://cdn.myanimelist.net/images/anime/3/720...</td>\n",
       "      <td>Gintoki, Shinpachi, and Kagura return as the f...</td>\n",
       "      <td>['Action', 'Comedy', 'Sci-Fi']</td>\n",
       "      <td>['Historical', 'Parody', 'Samurai']</td>\n",
       "      <td>['Shounen']</td>\n",
       "      <td>['BandaiNamcoPictures']</td>\n",
       "      <td>9.09</td>\n",
       "    </tr>\n",
       "  </tbody>\n",
       "</table>\n",
       "</div>"
      ],
      "text/plain": [
       "   MAL ID                                         Name  \\\n",
       "0    5114             Fullmetal Alchemist: Brotherhood   \n",
       "1   48583  Shingeki no Kyojin: The Final Season Part 2   \n",
       "2   38524           Shingeki no Kyojin Season 3 Part 2   \n",
       "3    9253                                  Steins;Gate   \n",
       "4   28977                                     Gintama°   \n",
       "\n",
       "                               English Name  \\\n",
       "0          Fullmetal Alchemist: Brotherhood   \n",
       "1  Attack on Titan: The Final Season Part 2   \n",
       "2           Attack on Titan Season 3 Part 2   \n",
       "3                               Steins;Gate   \n",
       "4                          Gintama Season 4   \n",
       "\n",
       "                                               Image  \\\n",
       "0  https://cdn.myanimelist.net/images/anime/1223/...   \n",
       "1  https://cdn.myanimelist.net/images/anime/1948/...   \n",
       "2  https://cdn.myanimelist.net/images/anime/1517/...   \n",
       "3  https://cdn.myanimelist.net/images/anime/5/731...   \n",
       "4  https://cdn.myanimelist.net/images/anime/3/720...   \n",
       "\n",
       "                                            Synopsis  \\\n",
       "0  After a horrific alchemy experiment goes wrong...   \n",
       "1  Turning against his former allies and enemies ...   \n",
       "2  Seeking to restore humanity's diminishing hope...   \n",
       "3  The self-proclaimed mad scientist Rintarou Oka...   \n",
       "4  Gintoki, Shinpachi, and Kagura return as the f...   \n",
       "\n",
       "                                               Genre  \\\n",
       "0  ['Action', 'Adventure', 'Comedy', 'Drama', 'Fa...   \n",
       "1          ['Action', 'Drama', 'Fantasy', 'Mystery']   \n",
       "2          ['Action', 'Drama', 'Fantasy', 'Mystery']   \n",
       "3                    ['Drama', 'Sci-Fi', 'Suspense']   \n",
       "4                     ['Action', 'Comedy', 'Sci-Fi']   \n",
       "\n",
       "                                Themes  Demographic                   Studio  \\\n",
       "0                         ['Military']  ['Shounen']                ['Bones']   \n",
       "1           ['Military', 'SuperPower']  ['Shounen']                ['MAPPA']   \n",
       "2           ['Military', 'SuperPower']  ['Shounen']            ['WitStudio']   \n",
       "3                    ['Psychological']           []             ['WhiteFox']   \n",
       "4  ['Historical', 'Parody', 'Samurai']  ['Shounen']  ['BandaiNamcoPictures']   \n",
       "\n",
       "   Score  \n",
       "0   9.15  \n",
       "1   9.15  \n",
       "2   9.09  \n",
       "3   9.09  \n",
       "4   9.09  "
      ]
     },
     "execution_count": 10,
     "metadata": {},
     "output_type": "execute_result"
    }
   ],
   "source": [
    "anime_copy.head()"
   ]
  },
  {
   "cell_type": "code",
   "execution_count": 11,
   "id": "5b00e22b",
   "metadata": {
    "execution": {
     "iopub.execute_input": "2025-09-20T23:27:51.731993Z",
     "iopub.status.busy": "2025-09-20T23:27:51.731094Z",
     "iopub.status.idle": "2025-09-20T23:27:51.733874Z",
     "shell.execute_reply": "2025-09-20T23:27:51.733240Z",
     "shell.execute_reply.started": "2025-09-20T23:15:19.504074Z"
    },
    "papermill": {
     "duration": 0.041202,
     "end_time": "2025-09-20T23:27:51.734019",
     "exception": false,
     "start_time": "2025-09-20T23:27:51.692817",
     "status": "completed"
    },
    "tags": []
   },
   "outputs": [],
   "source": [
    "# eval(anime_copy['Genre'])"
   ]
  },
  {
   "cell_type": "code",
   "execution_count": 12,
   "id": "824044b0",
   "metadata": {
    "execution": {
     "iopub.execute_input": "2025-09-20T23:27:51.809460Z",
     "iopub.status.busy": "2025-09-20T23:27:51.808654Z",
     "iopub.status.idle": "2025-09-20T23:27:51.812281Z",
     "shell.execute_reply": "2025-09-20T23:27:51.811657Z",
     "shell.execute_reply.started": "2025-09-20T23:15:19.519046Z"
    },
    "papermill": {
     "duration": 0.04418,
     "end_time": "2025-09-20T23:27:51.812422",
     "exception": false,
     "start_time": "2025-09-20T23:27:51.768242",
     "status": "completed"
    },
    "tags": []
   },
   "outputs": [],
   "source": [
    "# anime_copy['Synopsis Joined'] = anime_copy['Synopsis'].apply(lambda x:x.split())"
   ]
  },
  {
   "cell_type": "code",
   "execution_count": 13,
   "id": "ee44beb1",
   "metadata": {
    "execution": {
     "iopub.execute_input": "2025-09-20T23:27:51.889637Z",
     "iopub.status.busy": "2025-09-20T23:27:51.888597Z",
     "iopub.status.idle": "2025-09-20T23:27:51.891064Z",
     "shell.execute_reply": "2025-09-20T23:27:51.891527Z",
     "shell.execute_reply.started": "2025-09-20T23:15:19.530785Z"
    },
    "papermill": {
     "duration": 0.045466,
     "end_time": "2025-09-20T23:27:51.891711",
     "exception": false,
     "start_time": "2025-09-20T23:27:51.846245",
     "status": "completed"
    },
    "tags": []
   },
   "outputs": [],
   "source": [
    "anime_copy['Genre'] = anime_copy['Genre'].astype(str)\n",
    "anime_copy['Themes'] = anime_copy['Themes'].astype(str)\n",
    "anime_copy['Demographic'] = anime_copy['Demographic'].astype(str)\n",
    "anime_copy['Studio'] = anime_copy['Studio'].astype(str)"
   ]
  },
  {
   "cell_type": "code",
   "execution_count": 14,
   "id": "b002135f",
   "metadata": {
    "execution": {
     "iopub.execute_input": "2025-09-20T23:27:51.973576Z",
     "iopub.status.busy": "2025-09-20T23:27:51.972728Z",
     "iopub.status.idle": "2025-09-20T23:27:51.976878Z",
     "shell.execute_reply": "2025-09-20T23:27:51.976340Z",
     "shell.execute_reply.started": "2025-09-20T23:15:19.550469Z"
    },
    "papermill": {
     "duration": 0.051641,
     "end_time": "2025-09-20T23:27:51.977023",
     "exception": false,
     "start_time": "2025-09-20T23:27:51.925382",
     "status": "completed"
    },
    "tags": []
   },
   "outputs": [
    {
     "data": {
      "text/html": [
       "<div>\n",
       "<style scoped>\n",
       "    .dataframe tbody tr th:only-of-type {\n",
       "        vertical-align: middle;\n",
       "    }\n",
       "\n",
       "    .dataframe tbody tr th {\n",
       "        vertical-align: top;\n",
       "    }\n",
       "\n",
       "    .dataframe thead th {\n",
       "        text-align: right;\n",
       "    }\n",
       "</style>\n",
       "<table border=\"1\" class=\"dataframe\">\n",
       "  <thead>\n",
       "    <tr style=\"text-align: right;\">\n",
       "      <th></th>\n",
       "      <th>MAL ID</th>\n",
       "      <th>Name</th>\n",
       "      <th>English Name</th>\n",
       "      <th>Image</th>\n",
       "      <th>Synopsis</th>\n",
       "      <th>Genre</th>\n",
       "      <th>Themes</th>\n",
       "      <th>Demographic</th>\n",
       "      <th>Studio</th>\n",
       "      <th>Score</th>\n",
       "    </tr>\n",
       "  </thead>\n",
       "  <tbody>\n",
       "    <tr>\n",
       "      <th>0</th>\n",
       "      <td>5114</td>\n",
       "      <td>Fullmetal Alchemist: Brotherhood</td>\n",
       "      <td>Fullmetal Alchemist: Brotherhood</td>\n",
       "      <td>https://cdn.myanimelist.net/images/anime/1223/...</td>\n",
       "      <td>After a horrific alchemy experiment goes wrong...</td>\n",
       "      <td>['Action', 'Adventure', 'Comedy', 'Drama', 'Fa...</td>\n",
       "      <td>['Military']</td>\n",
       "      <td>['Shounen']</td>\n",
       "      <td>['Bones']</td>\n",
       "      <td>9.15</td>\n",
       "    </tr>\n",
       "    <tr>\n",
       "      <th>1</th>\n",
       "      <td>48583</td>\n",
       "      <td>Shingeki no Kyojin: The Final Season Part 2</td>\n",
       "      <td>Attack on Titan: The Final Season Part 2</td>\n",
       "      <td>https://cdn.myanimelist.net/images/anime/1948/...</td>\n",
       "      <td>Turning against his former allies and enemies ...</td>\n",
       "      <td>['Action', 'Drama', 'Fantasy', 'Mystery']</td>\n",
       "      <td>['Military', 'SuperPower']</td>\n",
       "      <td>['Shounen']</td>\n",
       "      <td>['MAPPA']</td>\n",
       "      <td>9.15</td>\n",
       "    </tr>\n",
       "    <tr>\n",
       "      <th>2</th>\n",
       "      <td>38524</td>\n",
       "      <td>Shingeki no Kyojin Season 3 Part 2</td>\n",
       "      <td>Attack on Titan Season 3 Part 2</td>\n",
       "      <td>https://cdn.myanimelist.net/images/anime/1517/...</td>\n",
       "      <td>Seeking to restore humanity's diminishing hope...</td>\n",
       "      <td>['Action', 'Drama', 'Fantasy', 'Mystery']</td>\n",
       "      <td>['Military', 'SuperPower']</td>\n",
       "      <td>['Shounen']</td>\n",
       "      <td>['WitStudio']</td>\n",
       "      <td>9.09</td>\n",
       "    </tr>\n",
       "  </tbody>\n",
       "</table>\n",
       "</div>"
      ],
      "text/plain": [
       "   MAL ID                                         Name  \\\n",
       "0    5114             Fullmetal Alchemist: Brotherhood   \n",
       "1   48583  Shingeki no Kyojin: The Final Season Part 2   \n",
       "2   38524           Shingeki no Kyojin Season 3 Part 2   \n",
       "\n",
       "                               English Name  \\\n",
       "0          Fullmetal Alchemist: Brotherhood   \n",
       "1  Attack on Titan: The Final Season Part 2   \n",
       "2           Attack on Titan Season 3 Part 2   \n",
       "\n",
       "                                               Image  \\\n",
       "0  https://cdn.myanimelist.net/images/anime/1223/...   \n",
       "1  https://cdn.myanimelist.net/images/anime/1948/...   \n",
       "2  https://cdn.myanimelist.net/images/anime/1517/...   \n",
       "\n",
       "                                            Synopsis  \\\n",
       "0  After a horrific alchemy experiment goes wrong...   \n",
       "1  Turning against his former allies and enemies ...   \n",
       "2  Seeking to restore humanity's diminishing hope...   \n",
       "\n",
       "                                               Genre  \\\n",
       "0  ['Action', 'Adventure', 'Comedy', 'Drama', 'Fa...   \n",
       "1          ['Action', 'Drama', 'Fantasy', 'Mystery']   \n",
       "2          ['Action', 'Drama', 'Fantasy', 'Mystery']   \n",
       "\n",
       "                       Themes  Demographic         Studio  Score  \n",
       "0                ['Military']  ['Shounen']      ['Bones']   9.15  \n",
       "1  ['Military', 'SuperPower']  ['Shounen']      ['MAPPA']   9.15  \n",
       "2  ['Military', 'SuperPower']  ['Shounen']  ['WitStudio']   9.09  "
      ]
     },
     "execution_count": 14,
     "metadata": {},
     "output_type": "execute_result"
    }
   ],
   "source": [
    "anime_copy.head(3)"
   ]
  },
  {
   "cell_type": "code",
   "execution_count": 15,
   "id": "8fb464c5",
   "metadata": {
    "execution": {
     "iopub.execute_input": "2025-09-20T23:27:52.070361Z",
     "iopub.status.busy": "2025-09-20T23:27:52.069418Z",
     "iopub.status.idle": "2025-09-20T23:27:52.073514Z",
     "shell.execute_reply": "2025-09-20T23:27:52.072899Z",
     "shell.execute_reply.started": "2025-09-20T23:15:19.570981Z"
    },
    "papermill": {
     "duration": 0.060164,
     "end_time": "2025-09-20T23:27:52.073651",
     "exception": false,
     "start_time": "2025-09-20T23:27:52.013487",
     "status": "completed"
    },
    "tags": []
   },
   "outputs": [
    {
     "data": {
      "text/plain": [
       "'Action Adventure Comedy Drama Fantasy'"
      ]
     },
     "execution_count": 15,
     "metadata": {},
     "output_type": "execute_result"
    }
   ],
   "source": [
    "anime_copy['Genre'] = anime_copy['Genre'].apply(lambda x:x.replace(\"'\", \"\"))\n",
    "anime_copy['Genre'] = anime_copy['Genre'].apply(lambda x:x.replace(\"[\", \"\"))\n",
    "anime_copy['Genre'] = anime_copy['Genre'].apply(lambda x:x.replace(\"]\", \"\"))\n",
    "anime_copy['Genre'] = anime_copy['Genre'].apply(lambda x:x.replace(\",\", \"\"))\n",
    "\n",
    "anime_copy['Genre'][0]"
   ]
  },
  {
   "cell_type": "code",
   "execution_count": 16,
   "id": "859ec792",
   "metadata": {
    "execution": {
     "iopub.execute_input": "2025-09-20T23:27:52.162952Z",
     "iopub.status.busy": "2025-09-20T23:27:52.162005Z",
     "iopub.status.idle": "2025-09-20T23:27:52.166328Z",
     "shell.execute_reply": "2025-09-20T23:27:52.165587Z",
     "shell.execute_reply.started": "2025-09-20T23:15:19.600643Z"
    },
    "papermill": {
     "duration": 0.057973,
     "end_time": "2025-09-20T23:27:52.166472",
     "exception": false,
     "start_time": "2025-09-20T23:27:52.108499",
     "status": "completed"
    },
    "tags": []
   },
   "outputs": [
    {
     "data": {
      "text/plain": [
       "'Military'"
      ]
     },
     "execution_count": 16,
     "metadata": {},
     "output_type": "execute_result"
    }
   ],
   "source": [
    "anime_copy['Themes'] = anime_copy['Themes'].apply(lambda x:x.replace(\"'\", \"\"))\n",
    "anime_copy['Themes'] = anime_copy['Themes'].apply(lambda x:x.replace(\"[\", \"\"))\n",
    "anime_copy['Themes'] = anime_copy['Themes'].apply(lambda x:x.replace(\"]\", \"\"))\n",
    "anime_copy['Themes'] = anime_copy['Themes'].apply(lambda x:x.replace(\",\", \"\"))\n",
    "\n",
    "anime_copy['Themes'][0]"
   ]
  },
  {
   "cell_type": "code",
   "execution_count": 17,
   "id": "15570d71",
   "metadata": {
    "execution": {
     "iopub.execute_input": "2025-09-20T23:27:52.258608Z",
     "iopub.status.busy": "2025-09-20T23:27:52.244088Z",
     "iopub.status.idle": "2025-09-20T23:27:52.263184Z",
     "shell.execute_reply": "2025-09-20T23:27:52.262569Z",
     "shell.execute_reply.started": "2025-09-20T23:15:19.630890Z"
    },
    "papermill": {
     "duration": 0.05831,
     "end_time": "2025-09-20T23:27:52.263331",
     "exception": false,
     "start_time": "2025-09-20T23:27:52.205021",
     "status": "completed"
    },
    "tags": []
   },
   "outputs": [
    {
     "data": {
      "text/plain": [
       "'Shounen'"
      ]
     },
     "execution_count": 17,
     "metadata": {},
     "output_type": "execute_result"
    }
   ],
   "source": [
    "anime_copy['Demographic'] = anime_copy['Demographic'].apply(lambda x:x.replace(\"'\", \"\"))\n",
    "anime_copy['Demographic'] = anime_copy['Demographic'].apply(lambda x:x.replace(\"[\", \"\"))\n",
    "anime_copy['Demographic'] = anime_copy['Demographic'].apply(lambda x:x.replace(\"]\", \"\"))\n",
    "anime_copy['Demographic'] = anime_copy['Demographic'].apply(lambda x:x.replace(\",\", \"\"))\n",
    "\n",
    "anime_copy['Demographic'][0]"
   ]
  },
  {
   "cell_type": "code",
   "execution_count": 18,
   "id": "c2a45420",
   "metadata": {
    "execution": {
     "iopub.execute_input": "2025-09-20T23:27:52.354304Z",
     "iopub.status.busy": "2025-09-20T23:27:52.353382Z",
     "iopub.status.idle": "2025-09-20T23:27:52.356984Z",
     "shell.execute_reply": "2025-09-20T23:27:52.357437Z",
     "shell.execute_reply.started": "2025-09-20T23:15:19.654811Z"
    },
    "papermill": {
     "duration": 0.058693,
     "end_time": "2025-09-20T23:27:52.357606",
     "exception": false,
     "start_time": "2025-09-20T23:27:52.298913",
     "status": "completed"
    },
    "tags": []
   },
   "outputs": [
    {
     "data": {
      "text/plain": [
       "'Bones'"
      ]
     },
     "execution_count": 18,
     "metadata": {},
     "output_type": "execute_result"
    }
   ],
   "source": [
    "anime_copy['Studio'] = anime_copy['Studio'].apply(lambda x:x.replace(\"'\", \"\"))\n",
    "anime_copy['Studio'] = anime_copy['Studio'].apply(lambda x:x.replace(\"[\", \"\"))\n",
    "anime_copy['Studio'] = anime_copy['Studio'].apply(lambda x:x.replace(\"]\", \"\"))\n",
    "anime_copy['Studio'] = anime_copy['Studio'].apply(lambda x:x.replace(\",\", \"\"))\n",
    "\n",
    "anime_copy['Studio'][0]"
   ]
  },
  {
   "cell_type": "code",
   "execution_count": 19,
   "id": "0c026cae",
   "metadata": {
    "execution": {
     "iopub.execute_input": "2025-09-20T23:27:52.454540Z",
     "iopub.status.busy": "2025-09-20T23:27:52.453642Z",
     "iopub.status.idle": "2025-09-20T23:27:52.456987Z",
     "shell.execute_reply": "2025-09-20T23:27:52.457446Z",
     "shell.execute_reply.started": "2025-09-20T23:15:19.681984Z"
    },
    "papermill": {
     "duration": 0.064657,
     "end_time": "2025-09-20T23:27:52.457615",
     "exception": false,
     "start_time": "2025-09-20T23:27:52.392958",
     "status": "completed"
    },
    "tags": []
   },
   "outputs": [
    {
     "data": {
      "text/html": [
       "<div>\n",
       "<style scoped>\n",
       "    .dataframe tbody tr th:only-of-type {\n",
       "        vertical-align: middle;\n",
       "    }\n",
       "\n",
       "    .dataframe tbody tr th {\n",
       "        vertical-align: top;\n",
       "    }\n",
       "\n",
       "    .dataframe thead th {\n",
       "        text-align: right;\n",
       "    }\n",
       "</style>\n",
       "<table border=\"1\" class=\"dataframe\">\n",
       "  <thead>\n",
       "    <tr style=\"text-align: right;\">\n",
       "      <th></th>\n",
       "      <th>MAL ID</th>\n",
       "      <th>Name</th>\n",
       "      <th>English Name</th>\n",
       "      <th>Image</th>\n",
       "      <th>Synopsis</th>\n",
       "      <th>Genre</th>\n",
       "      <th>Themes</th>\n",
       "      <th>Demographic</th>\n",
       "      <th>Studio</th>\n",
       "      <th>Score</th>\n",
       "      <th>Tags</th>\n",
       "    </tr>\n",
       "  </thead>\n",
       "  <tbody>\n",
       "    <tr>\n",
       "      <th>0</th>\n",
       "      <td>5114</td>\n",
       "      <td>Fullmetal Alchemist: Brotherhood</td>\n",
       "      <td>Fullmetal Alchemist: Brotherhood</td>\n",
       "      <td>https://cdn.myanimelist.net/images/anime/1223/...</td>\n",
       "      <td>After a horrific alchemy experiment goes wrong...</td>\n",
       "      <td>Action Adventure Comedy Drama Fantasy</td>\n",
       "      <td>Military</td>\n",
       "      <td>Shounen</td>\n",
       "      <td>Bones</td>\n",
       "      <td>9.15</td>\n",
       "      <td>After a horrific alchemy experiment goes wrong...</td>\n",
       "    </tr>\n",
       "    <tr>\n",
       "      <th>1</th>\n",
       "      <td>48583</td>\n",
       "      <td>Shingeki no Kyojin: The Final Season Part 2</td>\n",
       "      <td>Attack on Titan: The Final Season Part 2</td>\n",
       "      <td>https://cdn.myanimelist.net/images/anime/1948/...</td>\n",
       "      <td>Turning against his former allies and enemies ...</td>\n",
       "      <td>Action Drama Fantasy Mystery</td>\n",
       "      <td>Military SuperPower</td>\n",
       "      <td>Shounen</td>\n",
       "      <td>MAPPA</td>\n",
       "      <td>9.15</td>\n",
       "      <td>Turning against his former allies and enemies ...</td>\n",
       "    </tr>\n",
       "    <tr>\n",
       "      <th>2</th>\n",
       "      <td>38524</td>\n",
       "      <td>Shingeki no Kyojin Season 3 Part 2</td>\n",
       "      <td>Attack on Titan Season 3 Part 2</td>\n",
       "      <td>https://cdn.myanimelist.net/images/anime/1517/...</td>\n",
       "      <td>Seeking to restore humanity's diminishing hope...</td>\n",
       "      <td>Action Drama Fantasy Mystery</td>\n",
       "      <td>Military SuperPower</td>\n",
       "      <td>Shounen</td>\n",
       "      <td>WitStudio</td>\n",
       "      <td>9.09</td>\n",
       "      <td>Seeking to restore humanity's diminishing hope...</td>\n",
       "    </tr>\n",
       "    <tr>\n",
       "      <th>3</th>\n",
       "      <td>9253</td>\n",
       "      <td>Steins;Gate</td>\n",
       "      <td>Steins;Gate</td>\n",
       "      <td>https://cdn.myanimelist.net/images/anime/5/731...</td>\n",
       "      <td>The self-proclaimed mad scientist Rintarou Oka...</td>\n",
       "      <td>Drama Sci-Fi Suspense</td>\n",
       "      <td>Psychological</td>\n",
       "      <td></td>\n",
       "      <td>WhiteFox</td>\n",
       "      <td>9.09</td>\n",
       "      <td>The self-proclaimed mad scientist Rintarou Oka...</td>\n",
       "    </tr>\n",
       "    <tr>\n",
       "      <th>4</th>\n",
       "      <td>28977</td>\n",
       "      <td>Gintama°</td>\n",
       "      <td>Gintama Season 4</td>\n",
       "      <td>https://cdn.myanimelist.net/images/anime/3/720...</td>\n",
       "      <td>Gintoki, Shinpachi, and Kagura return as the f...</td>\n",
       "      <td>Action Comedy Sci-Fi</td>\n",
       "      <td>Historical Parody Samurai</td>\n",
       "      <td>Shounen</td>\n",
       "      <td>BandaiNamcoPictures</td>\n",
       "      <td>9.09</td>\n",
       "      <td>Gintoki, Shinpachi, and Kagura return as the f...</td>\n",
       "    </tr>\n",
       "  </tbody>\n",
       "</table>\n",
       "</div>"
      ],
      "text/plain": [
       "   MAL ID                                         Name  \\\n",
       "0    5114             Fullmetal Alchemist: Brotherhood   \n",
       "1   48583  Shingeki no Kyojin: The Final Season Part 2   \n",
       "2   38524           Shingeki no Kyojin Season 3 Part 2   \n",
       "3    9253                                  Steins;Gate   \n",
       "4   28977                                     Gintama°   \n",
       "\n",
       "                               English Name  \\\n",
       "0          Fullmetal Alchemist: Brotherhood   \n",
       "1  Attack on Titan: The Final Season Part 2   \n",
       "2           Attack on Titan Season 3 Part 2   \n",
       "3                               Steins;Gate   \n",
       "4                          Gintama Season 4   \n",
       "\n",
       "                                               Image  \\\n",
       "0  https://cdn.myanimelist.net/images/anime/1223/...   \n",
       "1  https://cdn.myanimelist.net/images/anime/1948/...   \n",
       "2  https://cdn.myanimelist.net/images/anime/1517/...   \n",
       "3  https://cdn.myanimelist.net/images/anime/5/731...   \n",
       "4  https://cdn.myanimelist.net/images/anime/3/720...   \n",
       "\n",
       "                                            Synopsis  \\\n",
       "0  After a horrific alchemy experiment goes wrong...   \n",
       "1  Turning against his former allies and enemies ...   \n",
       "2  Seeking to restore humanity's diminishing hope...   \n",
       "3  The self-proclaimed mad scientist Rintarou Oka...   \n",
       "4  Gintoki, Shinpachi, and Kagura return as the f...   \n",
       "\n",
       "                                   Genre                     Themes  \\\n",
       "0  Action Adventure Comedy Drama Fantasy                   Military   \n",
       "1           Action Drama Fantasy Mystery        Military SuperPower   \n",
       "2           Action Drama Fantasy Mystery        Military SuperPower   \n",
       "3                  Drama Sci-Fi Suspense              Psychological   \n",
       "4                   Action Comedy Sci-Fi  Historical Parody Samurai   \n",
       "\n",
       "  Demographic               Studio  Score  \\\n",
       "0     Shounen                Bones   9.15   \n",
       "1     Shounen                MAPPA   9.15   \n",
       "2     Shounen            WitStudio   9.09   \n",
       "3                         WhiteFox   9.09   \n",
       "4     Shounen  BandaiNamcoPictures   9.09   \n",
       "\n",
       "                                                Tags  \n",
       "0  After a horrific alchemy experiment goes wrong...  \n",
       "1  Turning against his former allies and enemies ...  \n",
       "2  Seeking to restore humanity's diminishing hope...  \n",
       "3  The self-proclaimed mad scientist Rintarou Oka...  \n",
       "4  Gintoki, Shinpachi, and Kagura return as the f...  "
      ]
     },
     "execution_count": 19,
     "metadata": {},
     "output_type": "execute_result"
    }
   ],
   "source": [
    "anime_copy['Tags'] = anime_copy['Synopsis'].astype(str) + anime_copy['Genre'].astype(str) \n",
    "anime_copy.head()"
   ]
  },
  {
   "cell_type": "code",
   "execution_count": 20,
   "id": "2c037f7a",
   "metadata": {
    "execution": {
     "iopub.execute_input": "2025-09-20T23:27:52.536754Z",
     "iopub.status.busy": "2025-09-20T23:27:52.535355Z",
     "iopub.status.idle": "2025-09-20T23:27:52.542837Z",
     "shell.execute_reply": "2025-09-20T23:27:52.542299Z",
     "shell.execute_reply.started": "2025-09-20T23:15:19.708990Z"
    },
    "papermill": {
     "duration": 0.048638,
     "end_time": "2025-09-20T23:27:52.542984",
     "exception": false,
     "start_time": "2025-09-20T23:27:52.494346",
     "status": "completed"
    },
    "tags": []
   },
   "outputs": [],
   "source": [
    "new_df = anime_copy.drop(['Themes', 'Demographic', 'Studio', 'Score'], axis=1)"
   ]
  },
  {
   "cell_type": "code",
   "execution_count": 21,
   "id": "d7a02ab0",
   "metadata": {
    "execution": {
     "iopub.execute_input": "2025-09-20T23:27:52.629089Z",
     "iopub.status.busy": "2025-09-20T23:27:52.628201Z",
     "iopub.status.idle": "2025-09-20T23:27:52.632033Z",
     "shell.execute_reply": "2025-09-20T23:27:52.632489Z",
     "shell.execute_reply.started": "2025-09-20T23:15:19.723843Z"
    },
    "papermill": {
     "duration": 0.052597,
     "end_time": "2025-09-20T23:27:52.632650",
     "exception": false,
     "start_time": "2025-09-20T23:27:52.580053",
     "status": "completed"
    },
    "tags": []
   },
   "outputs": [
    {
     "data": {
      "text/html": [
       "<div>\n",
       "<style scoped>\n",
       "    .dataframe tbody tr th:only-of-type {\n",
       "        vertical-align: middle;\n",
       "    }\n",
       "\n",
       "    .dataframe tbody tr th {\n",
       "        vertical-align: top;\n",
       "    }\n",
       "\n",
       "    .dataframe thead th {\n",
       "        text-align: right;\n",
       "    }\n",
       "</style>\n",
       "<table border=\"1\" class=\"dataframe\">\n",
       "  <thead>\n",
       "    <tr style=\"text-align: right;\">\n",
       "      <th></th>\n",
       "      <th>MAL ID</th>\n",
       "      <th>Name</th>\n",
       "      <th>English Name</th>\n",
       "      <th>Image</th>\n",
       "      <th>Synopsis</th>\n",
       "      <th>Genre</th>\n",
       "      <th>Tags</th>\n",
       "    </tr>\n",
       "  </thead>\n",
       "  <tbody>\n",
       "    <tr>\n",
       "      <th>0</th>\n",
       "      <td>5114</td>\n",
       "      <td>Fullmetal Alchemist: Brotherhood</td>\n",
       "      <td>Fullmetal Alchemist: Brotherhood</td>\n",
       "      <td>https://cdn.myanimelist.net/images/anime/1223/...</td>\n",
       "      <td>After a horrific alchemy experiment goes wrong...</td>\n",
       "      <td>Action Adventure Comedy Drama Fantasy</td>\n",
       "      <td>After a horrific alchemy experiment goes wrong...</td>\n",
       "    </tr>\n",
       "    <tr>\n",
       "      <th>1</th>\n",
       "      <td>48583</td>\n",
       "      <td>Shingeki no Kyojin: The Final Season Part 2</td>\n",
       "      <td>Attack on Titan: The Final Season Part 2</td>\n",
       "      <td>https://cdn.myanimelist.net/images/anime/1948/...</td>\n",
       "      <td>Turning against his former allies and enemies ...</td>\n",
       "      <td>Action Drama Fantasy Mystery</td>\n",
       "      <td>Turning against his former allies and enemies ...</td>\n",
       "    </tr>\n",
       "    <tr>\n",
       "      <th>2</th>\n",
       "      <td>38524</td>\n",
       "      <td>Shingeki no Kyojin Season 3 Part 2</td>\n",
       "      <td>Attack on Titan Season 3 Part 2</td>\n",
       "      <td>https://cdn.myanimelist.net/images/anime/1517/...</td>\n",
       "      <td>Seeking to restore humanity's diminishing hope...</td>\n",
       "      <td>Action Drama Fantasy Mystery</td>\n",
       "      <td>Seeking to restore humanity's diminishing hope...</td>\n",
       "    </tr>\n",
       "    <tr>\n",
       "      <th>3</th>\n",
       "      <td>9253</td>\n",
       "      <td>Steins;Gate</td>\n",
       "      <td>Steins;Gate</td>\n",
       "      <td>https://cdn.myanimelist.net/images/anime/5/731...</td>\n",
       "      <td>The self-proclaimed mad scientist Rintarou Oka...</td>\n",
       "      <td>Drama Sci-Fi Suspense</td>\n",
       "      <td>The self-proclaimed mad scientist Rintarou Oka...</td>\n",
       "    </tr>\n",
       "    <tr>\n",
       "      <th>4</th>\n",
       "      <td>28977</td>\n",
       "      <td>Gintama°</td>\n",
       "      <td>Gintama Season 4</td>\n",
       "      <td>https://cdn.myanimelist.net/images/anime/3/720...</td>\n",
       "      <td>Gintoki, Shinpachi, and Kagura return as the f...</td>\n",
       "      <td>Action Comedy Sci-Fi</td>\n",
       "      <td>Gintoki, Shinpachi, and Kagura return as the f...</td>\n",
       "    </tr>\n",
       "  </tbody>\n",
       "</table>\n",
       "</div>"
      ],
      "text/plain": [
       "   MAL ID                                         Name  \\\n",
       "0    5114             Fullmetal Alchemist: Brotherhood   \n",
       "1   48583  Shingeki no Kyojin: The Final Season Part 2   \n",
       "2   38524           Shingeki no Kyojin Season 3 Part 2   \n",
       "3    9253                                  Steins;Gate   \n",
       "4   28977                                     Gintama°   \n",
       "\n",
       "                               English Name  \\\n",
       "0          Fullmetal Alchemist: Brotherhood   \n",
       "1  Attack on Titan: The Final Season Part 2   \n",
       "2           Attack on Titan Season 3 Part 2   \n",
       "3                               Steins;Gate   \n",
       "4                          Gintama Season 4   \n",
       "\n",
       "                                               Image  \\\n",
       "0  https://cdn.myanimelist.net/images/anime/1223/...   \n",
       "1  https://cdn.myanimelist.net/images/anime/1948/...   \n",
       "2  https://cdn.myanimelist.net/images/anime/1517/...   \n",
       "3  https://cdn.myanimelist.net/images/anime/5/731...   \n",
       "4  https://cdn.myanimelist.net/images/anime/3/720...   \n",
       "\n",
       "                                            Synopsis  \\\n",
       "0  After a horrific alchemy experiment goes wrong...   \n",
       "1  Turning against his former allies and enemies ...   \n",
       "2  Seeking to restore humanity's diminishing hope...   \n",
       "3  The self-proclaimed mad scientist Rintarou Oka...   \n",
       "4  Gintoki, Shinpachi, and Kagura return as the f...   \n",
       "\n",
       "                                   Genre  \\\n",
       "0  Action Adventure Comedy Drama Fantasy   \n",
       "1           Action Drama Fantasy Mystery   \n",
       "2           Action Drama Fantasy Mystery   \n",
       "3                  Drama Sci-Fi Suspense   \n",
       "4                   Action Comedy Sci-Fi   \n",
       "\n",
       "                                                Tags  \n",
       "0  After a horrific alchemy experiment goes wrong...  \n",
       "1  Turning against his former allies and enemies ...  \n",
       "2  Seeking to restore humanity's diminishing hope...  \n",
       "3  The self-proclaimed mad scientist Rintarou Oka...  \n",
       "4  Gintoki, Shinpachi, and Kagura return as the f...  "
      ]
     },
     "execution_count": 21,
     "metadata": {},
     "output_type": "execute_result"
    }
   ],
   "source": [
    "new_df.head()"
   ]
  },
  {
   "cell_type": "code",
   "execution_count": 22,
   "id": "e1a6719a",
   "metadata": {
    "execution": {
     "iopub.execute_input": "2025-09-20T23:27:52.715076Z",
     "iopub.status.busy": "2025-09-20T23:27:52.714297Z",
     "iopub.status.idle": "2025-09-20T23:27:52.718025Z",
     "shell.execute_reply": "2025-09-20T23:27:52.718457Z",
     "shell.execute_reply.started": "2025-09-20T23:15:19.743952Z"
    },
    "papermill": {
     "duration": 0.048967,
     "end_time": "2025-09-20T23:27:52.718633",
     "exception": false,
     "start_time": "2025-09-20T23:27:52.669666",
     "status": "completed"
    },
    "tags": []
   },
   "outputs": [
    {
     "data": {
      "text/plain": [
       "'After a horrific alchemy experiment goes wrong in the Elric household, brothers Edward and Alphonse are left in a catastrophic new reality. Ignoring the alchemical principle banning human transmutation, the boys attempted to bring their recently deceased mother back to life. Instead, they suffered brutal personal loss: Alphonse\\'s body disintegrated while Edward lost a leg and then sacrificed an arm to keep Alphonse\\'s soul in the physical realm by binding it to a hulking suit of armor. The brothers are rescued by their neighbor Pinako Rockbell and her granddaughter Winry. Known as a bio-mechanical engineering prodigy, Winry creates prosthetic limbs for Edward by utilizing \"automail,\" a tough, versatile metal used in robots and combat armor. After years of training, the Elric brothers set off on a quest to restore their bodies by locating the Philosopher\\'s Stone—a powerful gem that allows an alchemist to defy the traditional laws of Equivalent Exchange. As Edward becomes an infamous alchemist and gains the nickname \"Fullmetal,\" the boys\\' journey embroils them in a growing conspiracy that threatens the fate of the world. [Written by MAL Rewrite]Action Adventure Comedy Drama Fantasy'"
      ]
     },
     "execution_count": 22,
     "metadata": {},
     "output_type": "execute_result"
    }
   ],
   "source": [
    "new_df['Tags'][0]"
   ]
  },
  {
   "cell_type": "code",
   "execution_count": 23,
   "id": "2ca919fd",
   "metadata": {
    "execution": {
     "iopub.execute_input": "2025-09-20T23:27:52.806221Z",
     "iopub.status.busy": "2025-09-20T23:27:52.805388Z",
     "iopub.status.idle": "2025-09-20T23:27:52.809108Z",
     "shell.execute_reply": "2025-09-20T23:27:52.808571Z",
     "shell.execute_reply.started": "2025-09-20T23:15:19.758121Z"
    },
    "papermill": {
     "duration": 0.053198,
     "end_time": "2025-09-20T23:27:52.809248",
     "exception": false,
     "start_time": "2025-09-20T23:27:52.756050",
     "status": "completed"
    },
    "tags": []
   },
   "outputs": [
    {
     "data": {
      "text/html": [
       "<div>\n",
       "<style scoped>\n",
       "    .dataframe tbody tr th:only-of-type {\n",
       "        vertical-align: middle;\n",
       "    }\n",
       "\n",
       "    .dataframe tbody tr th {\n",
       "        vertical-align: top;\n",
       "    }\n",
       "\n",
       "    .dataframe thead th {\n",
       "        text-align: right;\n",
       "    }\n",
       "</style>\n",
       "<table border=\"1\" class=\"dataframe\">\n",
       "  <thead>\n",
       "    <tr style=\"text-align: right;\">\n",
       "      <th></th>\n",
       "      <th>MAL ID</th>\n",
       "      <th>Name</th>\n",
       "      <th>English Name</th>\n",
       "      <th>Image</th>\n",
       "      <th>Synopsis</th>\n",
       "      <th>Genre</th>\n",
       "      <th>Tags</th>\n",
       "    </tr>\n",
       "  </thead>\n",
       "  <tbody>\n",
       "    <tr>\n",
       "      <th>0</th>\n",
       "      <td>5114</td>\n",
       "      <td>Fullmetal Alchemist: Brotherhood</td>\n",
       "      <td>Fullmetal Alchemist: Brotherhood</td>\n",
       "      <td>https://cdn.myanimelist.net/images/anime/1223/...</td>\n",
       "      <td>After a horrific alchemy experiment goes wrong...</td>\n",
       "      <td>Action Adventure Comedy Drama Fantasy</td>\n",
       "      <td>After a horrific alchemy experiment goes wrong...</td>\n",
       "    </tr>\n",
       "    <tr>\n",
       "      <th>1</th>\n",
       "      <td>48583</td>\n",
       "      <td>Shingeki no Kyojin: The Final Season Part 2</td>\n",
       "      <td>Attack on Titan: The Final Season Part 2</td>\n",
       "      <td>https://cdn.myanimelist.net/images/anime/1948/...</td>\n",
       "      <td>Turning against his former allies and enemies ...</td>\n",
       "      <td>Action Drama Fantasy Mystery</td>\n",
       "      <td>Turning against his former allies and enemies ...</td>\n",
       "    </tr>\n",
       "    <tr>\n",
       "      <th>2</th>\n",
       "      <td>38524</td>\n",
       "      <td>Shingeki no Kyojin Season 3 Part 2</td>\n",
       "      <td>Attack on Titan Season 3 Part 2</td>\n",
       "      <td>https://cdn.myanimelist.net/images/anime/1517/...</td>\n",
       "      <td>Seeking to restore humanity's diminishing hope...</td>\n",
       "      <td>Action Drama Fantasy Mystery</td>\n",
       "      <td>Seeking to restore humanity's diminishing hope...</td>\n",
       "    </tr>\n",
       "    <tr>\n",
       "      <th>3</th>\n",
       "      <td>9253</td>\n",
       "      <td>Steins;Gate</td>\n",
       "      <td>Steins;Gate</td>\n",
       "      <td>https://cdn.myanimelist.net/images/anime/5/731...</td>\n",
       "      <td>The self-proclaimed mad scientist Rintarou Oka...</td>\n",
       "      <td>Drama Sci-Fi Suspense</td>\n",
       "      <td>The self-proclaimed mad scientist Rintarou Oka...</td>\n",
       "    </tr>\n",
       "    <tr>\n",
       "      <th>4</th>\n",
       "      <td>28977</td>\n",
       "      <td>Gintama°</td>\n",
       "      <td>Gintama Season 4</td>\n",
       "      <td>https://cdn.myanimelist.net/images/anime/3/720...</td>\n",
       "      <td>Gintoki, Shinpachi, and Kagura return as the f...</td>\n",
       "      <td>Action Comedy Sci-Fi</td>\n",
       "      <td>Gintoki, Shinpachi, and Kagura return as the f...</td>\n",
       "    </tr>\n",
       "  </tbody>\n",
       "</table>\n",
       "</div>"
      ],
      "text/plain": [
       "   MAL ID                                         Name  \\\n",
       "0    5114             Fullmetal Alchemist: Brotherhood   \n",
       "1   48583  Shingeki no Kyojin: The Final Season Part 2   \n",
       "2   38524           Shingeki no Kyojin Season 3 Part 2   \n",
       "3    9253                                  Steins;Gate   \n",
       "4   28977                                     Gintama°   \n",
       "\n",
       "                               English Name  \\\n",
       "0          Fullmetal Alchemist: Brotherhood   \n",
       "1  Attack on Titan: The Final Season Part 2   \n",
       "2           Attack on Titan Season 3 Part 2   \n",
       "3                               Steins;Gate   \n",
       "4                          Gintama Season 4   \n",
       "\n",
       "                                               Image  \\\n",
       "0  https://cdn.myanimelist.net/images/anime/1223/...   \n",
       "1  https://cdn.myanimelist.net/images/anime/1948/...   \n",
       "2  https://cdn.myanimelist.net/images/anime/1517/...   \n",
       "3  https://cdn.myanimelist.net/images/anime/5/731...   \n",
       "4  https://cdn.myanimelist.net/images/anime/3/720...   \n",
       "\n",
       "                                            Synopsis  \\\n",
       "0  After a horrific alchemy experiment goes wrong...   \n",
       "1  Turning against his former allies and enemies ...   \n",
       "2  Seeking to restore humanity's diminishing hope...   \n",
       "3  The self-proclaimed mad scientist Rintarou Oka...   \n",
       "4  Gintoki, Shinpachi, and Kagura return as the f...   \n",
       "\n",
       "                                   Genre  \\\n",
       "0  Action Adventure Comedy Drama Fantasy   \n",
       "1           Action Drama Fantasy Mystery   \n",
       "2           Action Drama Fantasy Mystery   \n",
       "3                  Drama Sci-Fi Suspense   \n",
       "4                   Action Comedy Sci-Fi   \n",
       "\n",
       "                                                Tags  \n",
       "0  After a horrific alchemy experiment goes wrong...  \n",
       "1  Turning against his former allies and enemies ...  \n",
       "2  Seeking to restore humanity's diminishing hope...  \n",
       "3  The self-proclaimed mad scientist Rintarou Oka...  \n",
       "4  Gintoki, Shinpachi, and Kagura return as the f...  "
      ]
     },
     "execution_count": 23,
     "metadata": {},
     "output_type": "execute_result"
    }
   ],
   "source": [
    "new_df.head()"
   ]
  },
  {
   "cell_type": "code",
   "execution_count": 24,
   "id": "dd5c581f",
   "metadata": {
    "execution": {
     "iopub.execute_input": "2025-09-20T23:27:52.890854Z",
     "iopub.status.busy": "2025-09-20T23:27:52.890095Z",
     "iopub.status.idle": "2025-09-20T23:27:52.894320Z",
     "shell.execute_reply": "2025-09-20T23:27:52.893739Z",
     "shell.execute_reply.started": "2025-09-20T23:15:19.780691Z"
    },
    "papermill": {
     "duration": 0.047499,
     "end_time": "2025-09-20T23:27:52.894455",
     "exception": false,
     "start_time": "2025-09-20T23:27:52.846956",
     "status": "completed"
    },
    "tags": []
   },
   "outputs": [
    {
     "data": {
      "text/plain": [
       "0    After a horrific alchemy experiment goes wrong...\n",
       "1    Turning against his former allies and enemies ...\n",
       "2    Seeking to restore humanity's diminishing hope...\n",
       "3    The self-proclaimed mad scientist Rintarou Oka...\n",
       "4    Gintoki, Shinpachi, and Kagura return as the f...\n",
       "Name: Tags, dtype: object"
      ]
     },
     "execution_count": 24,
     "metadata": {},
     "output_type": "execute_result"
    }
   ],
   "source": [
    "new_df['Tags'].head()"
   ]
  },
  {
   "cell_type": "code",
   "execution_count": 25,
   "id": "5177277b",
   "metadata": {
    "execution": {
     "iopub.execute_input": "2025-09-20T23:27:52.976449Z",
     "iopub.status.busy": "2025-09-20T23:27:52.975424Z",
     "iopub.status.idle": "2025-09-20T23:27:52.980462Z",
     "shell.execute_reply": "2025-09-20T23:27:52.979648Z",
     "shell.execute_reply.started": "2025-09-20T23:15:19.795695Z"
    },
    "papermill": {
     "duration": 0.048716,
     "end_time": "2025-09-20T23:27:52.980734",
     "exception": false,
     "start_time": "2025-09-20T23:27:52.932018",
     "status": "completed"
    },
    "tags": []
   },
   "outputs": [
    {
     "data": {
      "text/plain": [
       "dtype('O')"
      ]
     },
     "execution_count": 25,
     "metadata": {},
     "output_type": "execute_result"
    }
   ],
   "source": [
    "new_df['Tags'].dtype"
   ]
  },
  {
   "cell_type": "code",
   "execution_count": null,
   "id": "5e194b66",
   "metadata": {
    "papermill": {
     "duration": 0.038499,
     "end_time": "2025-09-20T23:27:53.059224",
     "exception": false,
     "start_time": "2025-09-20T23:27:53.020725",
     "status": "completed"
    },
    "tags": []
   },
   "outputs": [],
   "source": []
  },
  {
   "cell_type": "code",
   "execution_count": 26,
   "id": "55529419",
   "metadata": {
    "execution": {
     "iopub.execute_input": "2025-09-20T23:27:53.142422Z",
     "iopub.status.busy": "2025-09-20T23:27:53.141742Z",
     "iopub.status.idle": "2025-09-20T23:27:53.145777Z",
     "shell.execute_reply": "2025-09-20T23:27:53.146274Z",
     "shell.execute_reply.started": "2025-09-20T23:15:19.816055Z"
    },
    "papermill": {
     "duration": 0.048268,
     "end_time": "2025-09-20T23:27:53.146453",
     "exception": false,
     "start_time": "2025-09-20T23:27:53.098185",
     "status": "completed"
    },
    "tags": []
   },
   "outputs": [
    {
     "data": {
      "text/plain": [
       "'After a horrific alchemy experiment goes wrong in the Elric household, brothers Edward and Alphonse are left in a catastrophic new reality. Ignoring the alchemical principle banning human transmutation, the boys attempted to bring their recently deceased mother back to life. Instead, they suffered brutal personal loss: Alphonse\\'s body disintegrated while Edward lost a leg and then sacrificed an arm to keep Alphonse\\'s soul in the physical realm by binding it to a hulking suit of armor. The brothers are rescued by their neighbor Pinako Rockbell and her granddaughter Winry. Known as a bio-mechanical engineering prodigy, Winry creates prosthetic limbs for Edward by utilizing \"automail,\" a tough, versatile metal used in robots and combat armor. After years of training, the Elric brothers set off on a quest to restore their bodies by locating the Philosopher\\'s Stone—a powerful gem that allows an alchemist to defy the traditional laws of Equivalent Exchange. As Edward becomes an infamous alchemist and gains the nickname \"Fullmetal,\" the boys\\' journey embroils them in a growing conspiracy that threatens the fate of the world. [Written by MAL Rewrite]Action Adventure Comedy Drama Fantasy'"
      ]
     },
     "execution_count": 26,
     "metadata": {},
     "output_type": "execute_result"
    }
   ],
   "source": [
    "new_df['Tags'][0]"
   ]
  },
  {
   "cell_type": "code",
   "execution_count": null,
   "id": "556e65e5",
   "metadata": {
    "papermill": {
     "duration": 0.038163,
     "end_time": "2025-09-20T23:27:53.225189",
     "exception": false,
     "start_time": "2025-09-20T23:27:53.187026",
     "status": "completed"
    },
    "tags": []
   },
   "outputs": [],
   "source": []
  },
  {
   "cell_type": "code",
   "execution_count": 27,
   "id": "20258585",
   "metadata": {
    "execution": {
     "iopub.execute_input": "2025-09-20T23:27:53.312312Z",
     "iopub.status.busy": "2025-09-20T23:27:53.311480Z",
     "iopub.status.idle": "2025-09-20T23:27:53.315991Z",
     "shell.execute_reply": "2025-09-20T23:27:53.315299Z",
     "shell.execute_reply.started": "2025-09-20T23:15:19.834142Z"
    },
    "papermill": {
     "duration": 0.051782,
     "end_time": "2025-09-20T23:27:53.316140",
     "exception": false,
     "start_time": "2025-09-20T23:27:53.264358",
     "status": "completed"
    },
    "tags": []
   },
   "outputs": [
    {
     "data": {
      "text/plain": [
       "'After a horrific alchemy experiment goes wrong in the Elric household, brothers Edward and Alphonse are left in a catastrophic new reality. Ignoring the alchemical principle banning human transmutation, the boys attempted to bring their recently deceased mother back to life. Instead, they suffered brutal personal loss: Alphonse\\'s body disintegrated while Edward lost a leg and then sacrificed an arm to keep Alphonse\\'s soul in the physical realm by binding it to a hulking suit of armor. The brothers are rescued by their neighbor Pinako Rockbell and her granddaughter Winry. Known as a bio-mechanical engineering prodigy, Winry creates prosthetic limbs for Edward by utilizing \"automail,\" a tough, versatile metal used in robots and combat armor. After years of training, the Elric brothers set off on a quest to restore their bodies by locating the Philosopher\\'s Stone—a powerful gem that allows an alchemist to defy the traditional laws of Equivalent Exchange. As Edward becomes an infamous alchemist and gains the nickname \"Fullmetal,\" the boys\\' journey embroils them in a growing conspiracy that threatens the fate of the world. [Written by MAL Rewrite]Action Adventure Comedy Drama Fantasy'"
      ]
     },
     "execution_count": 27,
     "metadata": {},
     "output_type": "execute_result"
    }
   ],
   "source": [
    "new_df['Tags'][0]"
   ]
  },
  {
   "cell_type": "code",
   "execution_count": 28,
   "id": "3a76fb41",
   "metadata": {
    "execution": {
     "iopub.execute_input": "2025-09-20T23:27:53.417453Z",
     "iopub.status.busy": "2025-09-20T23:27:53.405437Z",
     "iopub.status.idle": "2025-09-20T23:27:53.421946Z",
     "shell.execute_reply": "2025-09-20T23:27:53.421429Z",
     "shell.execute_reply.started": "2025-09-20T23:15:19.849874Z"
    },
    "papermill": {
     "duration": 0.066141,
     "end_time": "2025-09-20T23:27:53.422109",
     "exception": false,
     "start_time": "2025-09-20T23:27:53.355968",
     "status": "completed"
    },
    "tags": []
   },
   "outputs": [
    {
     "data": {
      "text/plain": [
       "'After a horrific alchemy experiment goes wrong in the Elric household, brothers Edward and Alphonse are left in a catastrophic new reality. Ignoring the alchemical principle banning human transmutation, the boys attempted to bring their recently deceased mother back to life. Instead, they suffered brutal personal loss: Alphonse\\'s body disintegrated while Edward lost a leg and then sacrificed an arm to keep Alphonse\\'s soul in the physical realm by binding it to a hulking suit of armor. The brothers are rescued by their neighbor Pinako Rockbell and her granddaughter Winry. Known as a bio-mechanical engineering prodigy, Winry creates prosthetic limbs for Edward by utilizing \"automail,\" a tough, versatile metal used in robots and combat armor. After years of training, the Elric brothers set off on a quest to restore their bodies by locating the Philosopher\\'s Stone—a powerful gem that allows an alchemist to defy the traditional laws of Equivalent Exchange. As Edward becomes an infamous alchemist and gains the nickname \"Fullmetal,\" the boys\\' journey embroils them in a growing conspiracy that threatens the fate of the world. Action Adventure Comedy Drama Fantasy'"
      ]
     },
     "execution_count": 28,
     "metadata": {},
     "output_type": "execute_result"
    }
   ],
   "source": [
    "new_df['Tags'] = new_df['Tags'].apply(lambda x:x.replace(\"[Written by MAL Rewrite]\", ''))\n",
    "new_df['Tags'][0]"
   ]
  },
  {
   "cell_type": "code",
   "execution_count": 29,
   "id": "c71b50aa",
   "metadata": {
    "execution": {
     "iopub.execute_input": "2025-09-20T23:27:53.540475Z",
     "iopub.status.busy": "2025-09-20T23:27:53.539722Z",
     "iopub.status.idle": "2025-09-20T23:27:53.543017Z",
     "shell.execute_reply": "2025-09-20T23:27:53.543426Z",
     "shell.execute_reply.started": "2025-09-20T23:15:19.876616Z"
    },
    "papermill": {
     "duration": 0.081062,
     "end_time": "2025-09-20T23:27:53.543594",
     "exception": false,
     "start_time": "2025-09-20T23:27:53.462532",
     "status": "completed"
    },
    "tags": []
   },
   "outputs": [
    {
     "data": {
      "text/html": [
       "<div>\n",
       "<style scoped>\n",
       "    .dataframe tbody tr th:only-of-type {\n",
       "        vertical-align: middle;\n",
       "    }\n",
       "\n",
       "    .dataframe tbody tr th {\n",
       "        vertical-align: top;\n",
       "    }\n",
       "\n",
       "    .dataframe thead th {\n",
       "        text-align: right;\n",
       "    }\n",
       "</style>\n",
       "<table border=\"1\" class=\"dataframe\">\n",
       "  <thead>\n",
       "    <tr style=\"text-align: right;\">\n",
       "      <th></th>\n",
       "      <th>MAL ID</th>\n",
       "      <th>Name</th>\n",
       "      <th>English Name</th>\n",
       "      <th>Image</th>\n",
       "      <th>Synopsis</th>\n",
       "      <th>Genre</th>\n",
       "      <th>Tags</th>\n",
       "    </tr>\n",
       "  </thead>\n",
       "  <tbody>\n",
       "    <tr>\n",
       "      <th>0</th>\n",
       "      <td>5114</td>\n",
       "      <td>Fullmetal Alchemist: Brotherhood</td>\n",
       "      <td>Fullmetal Alchemist: Brotherhood</td>\n",
       "      <td>https://cdn.myanimelist.net/images/anime/1223/...</td>\n",
       "      <td>After a horrific alchemy experiment goes wrong...</td>\n",
       "      <td>Action Adventure Comedy Drama Fantasy</td>\n",
       "      <td>after a horrific alchemy experiment goes wrong...</td>\n",
       "    </tr>\n",
       "    <tr>\n",
       "      <th>1</th>\n",
       "      <td>48583</td>\n",
       "      <td>Shingeki no Kyojin: The Final Season Part 2</td>\n",
       "      <td>Attack on Titan: The Final Season Part 2</td>\n",
       "      <td>https://cdn.myanimelist.net/images/anime/1948/...</td>\n",
       "      <td>Turning against his former allies and enemies ...</td>\n",
       "      <td>Action Drama Fantasy Mystery</td>\n",
       "      <td>turning against his former allies and enemies ...</td>\n",
       "    </tr>\n",
       "    <tr>\n",
       "      <th>2</th>\n",
       "      <td>38524</td>\n",
       "      <td>Shingeki no Kyojin Season 3 Part 2</td>\n",
       "      <td>Attack on Titan Season 3 Part 2</td>\n",
       "      <td>https://cdn.myanimelist.net/images/anime/1517/...</td>\n",
       "      <td>Seeking to restore humanity's diminishing hope...</td>\n",
       "      <td>Action Drama Fantasy Mystery</td>\n",
       "      <td>seeking to restore humanity's diminishing hope...</td>\n",
       "    </tr>\n",
       "    <tr>\n",
       "      <th>3</th>\n",
       "      <td>9253</td>\n",
       "      <td>Steins;Gate</td>\n",
       "      <td>Steins;Gate</td>\n",
       "      <td>https://cdn.myanimelist.net/images/anime/5/731...</td>\n",
       "      <td>The self-proclaimed mad scientist Rintarou Oka...</td>\n",
       "      <td>Drama Sci-Fi Suspense</td>\n",
       "      <td>the self-proclaimed mad scientist rintarou oka...</td>\n",
       "    </tr>\n",
       "    <tr>\n",
       "      <th>4</th>\n",
       "      <td>28977</td>\n",
       "      <td>Gintama°</td>\n",
       "      <td>Gintama Season 4</td>\n",
       "      <td>https://cdn.myanimelist.net/images/anime/3/720...</td>\n",
       "      <td>Gintoki, Shinpachi, and Kagura return as the f...</td>\n",
       "      <td>Action Comedy Sci-Fi</td>\n",
       "      <td>gintoki, shinpachi, and kagura return as the f...</td>\n",
       "    </tr>\n",
       "  </tbody>\n",
       "</table>\n",
       "</div>"
      ],
      "text/plain": [
       "   MAL ID                                         Name  \\\n",
       "0    5114             Fullmetal Alchemist: Brotherhood   \n",
       "1   48583  Shingeki no Kyojin: The Final Season Part 2   \n",
       "2   38524           Shingeki no Kyojin Season 3 Part 2   \n",
       "3    9253                                  Steins;Gate   \n",
       "4   28977                                     Gintama°   \n",
       "\n",
       "                               English Name  \\\n",
       "0          Fullmetal Alchemist: Brotherhood   \n",
       "1  Attack on Titan: The Final Season Part 2   \n",
       "2           Attack on Titan Season 3 Part 2   \n",
       "3                               Steins;Gate   \n",
       "4                          Gintama Season 4   \n",
       "\n",
       "                                               Image  \\\n",
       "0  https://cdn.myanimelist.net/images/anime/1223/...   \n",
       "1  https://cdn.myanimelist.net/images/anime/1948/...   \n",
       "2  https://cdn.myanimelist.net/images/anime/1517/...   \n",
       "3  https://cdn.myanimelist.net/images/anime/5/731...   \n",
       "4  https://cdn.myanimelist.net/images/anime/3/720...   \n",
       "\n",
       "                                            Synopsis  \\\n",
       "0  After a horrific alchemy experiment goes wrong...   \n",
       "1  Turning against his former allies and enemies ...   \n",
       "2  Seeking to restore humanity's diminishing hope...   \n",
       "3  The self-proclaimed mad scientist Rintarou Oka...   \n",
       "4  Gintoki, Shinpachi, and Kagura return as the f...   \n",
       "\n",
       "                                   Genre  \\\n",
       "0  Action Adventure Comedy Drama Fantasy   \n",
       "1           Action Drama Fantasy Mystery   \n",
       "2           Action Drama Fantasy Mystery   \n",
       "3                  Drama Sci-Fi Suspense   \n",
       "4                   Action Comedy Sci-Fi   \n",
       "\n",
       "                                                Tags  \n",
       "0  after a horrific alchemy experiment goes wrong...  \n",
       "1  turning against his former allies and enemies ...  \n",
       "2  seeking to restore humanity's diminishing hope...  \n",
       "3  the self-proclaimed mad scientist rintarou oka...  \n",
       "4  gintoki, shinpachi, and kagura return as the f...  "
      ]
     },
     "execution_count": 29,
     "metadata": {},
     "output_type": "execute_result"
    }
   ],
   "source": [
    "new_df['Tags'] = new_df['Tags'].apply(lambda x: x.lower())\n",
    "new_df.head()"
   ]
  },
  {
   "cell_type": "code",
   "execution_count": 30,
   "id": "5945f099",
   "metadata": {
    "execution": {
     "iopub.execute_input": "2025-09-20T23:27:53.633175Z",
     "iopub.status.busy": "2025-09-20T23:27:53.632156Z",
     "iopub.status.idle": "2025-09-20T23:27:53.635935Z",
     "shell.execute_reply": "2025-09-20T23:27:53.636398Z",
     "shell.execute_reply.started": "2025-09-20T23:15:19.920124Z"
    },
    "papermill": {
     "duration": 0.051686,
     "end_time": "2025-09-20T23:27:53.636574",
     "exception": false,
     "start_time": "2025-09-20T23:27:53.584888",
     "status": "completed"
    },
    "tags": []
   },
   "outputs": [
    {
     "name": "stdout",
     "output_type": "stream",
     "text": [
      "after a horrific alchemy experiment goes wrong in the elric household, brothers edward and alphonse are left in a catastrophic new reality. ignoring the alchemical principle banning human transmutation, the boys attempted to bring their recently deceased mother back to life. instead, they suffered brutal personal loss: alphonse's body disintegrated while edward lost a leg and then sacrificed an arm to keep alphonse's soul in the physical realm by binding it to a hulking suit of armor. the brothers are rescued by their neighbor pinako rockbell and her granddaughter winry. known as a bio-mechanical engineering prodigy, winry creates prosthetic limbs for edward by utilizing \"automail,\" a tough, versatile metal used in robots and combat armor. after years of training, the elric brothers set off on a quest to restore their bodies by locating the philosopher's stone—a powerful gem that allows an alchemist to defy the traditional laws of equivalent exchange. as edward becomes an infamous alchemist and gains the nickname \"fullmetal,\" the boys' journey embroils them in a growing conspiracy that threatens the fate of the world. action adventure comedy drama fantasy\n"
     ]
    }
   ],
   "source": [
    "print(new_df['Tags'][0])"
   ]
  },
  {
   "cell_type": "code",
   "execution_count": 31,
   "id": "fdc1ef26",
   "metadata": {
    "execution": {
     "iopub.execute_input": "2025-09-20T23:27:53.728028Z",
     "iopub.status.busy": "2025-09-20T23:27:53.724979Z",
     "iopub.status.idle": "2025-09-20T23:27:53.733310Z",
     "shell.execute_reply": "2025-09-20T23:27:53.732545Z",
     "shell.execute_reply.started": "2025-09-20T23:15:19.927082Z"
    },
    "papermill": {
     "duration": 0.053319,
     "end_time": "2025-09-20T23:27:53.733489",
     "exception": false,
     "start_time": "2025-09-20T23:27:53.680170",
     "status": "completed"
    },
    "tags": []
   },
   "outputs": [
    {
     "data": {
      "text/plain": [
       "\"turning against his former allies and enemies alike, eren yeager sets a disastrous plan in motion. under the guidance of the beast titan, zeke, eren takes extreme measures to end the ancient conflict between marley and eldia—but his true intentions remain a mystery. delving deep into his family's past, eren fights to control his own destiny. meanwhile, the long-feuding nations of marley and eldia utilize both soldiers and titans in a brutal race to eliminate the other. reiner braun uses his own powers in a desperate bid to hold off eren's own militaristic force, and his fellow eldians—children falco grice and gabi braun—struggle to survive in the unfolding chaos. elsewhere, eren's childhood friends mikasa ackerman and armin arlert remain imprisoned alongside eren's former survey corps companions, all disturbed by eren's monstrous transformation. under the blind belief that eren still secretly harbors good intentions, mikasa and the others enter the fray in an attempt to save their friend's very soul. action drama fantasy mystery\""
      ]
     },
     "execution_count": 31,
     "metadata": {},
     "output_type": "execute_result"
    }
   ],
   "source": [
    "new_df['Tags'][1]"
   ]
  },
  {
   "cell_type": "code",
   "execution_count": 32,
   "id": "f4d8bcaa",
   "metadata": {
    "execution": {
     "iopub.execute_input": "2025-09-20T23:27:53.819770Z",
     "iopub.status.busy": "2025-09-20T23:27:53.819117Z",
     "iopub.status.idle": "2025-09-20T23:27:53.823540Z",
     "shell.execute_reply": "2025-09-20T23:27:53.822947Z",
     "shell.execute_reply.started": "2025-09-20T23:15:19.941728Z"
    },
    "papermill": {
     "duration": 0.049673,
     "end_time": "2025-09-20T23:27:53.823672",
     "exception": false,
     "start_time": "2025-09-20T23:27:53.773999",
     "status": "completed"
    },
    "tags": []
   },
   "outputs": [
    {
     "data": {
      "text/plain": [
       "(5936, 7)"
      ]
     },
     "execution_count": 32,
     "metadata": {},
     "output_type": "execute_result"
    }
   ],
   "source": [
    "new_df.shape"
   ]
  },
  {
   "cell_type": "code",
   "execution_count": 33,
   "id": "5cbce037",
   "metadata": {
    "execution": {
     "iopub.execute_input": "2025-09-20T23:27:53.910304Z",
     "iopub.status.busy": "2025-09-20T23:27:53.909405Z",
     "iopub.status.idle": "2025-09-20T23:27:55.683955Z",
     "shell.execute_reply": "2025-09-20T23:27:55.683314Z",
     "shell.execute_reply.started": "2025-09-20T23:15:19.955591Z"
    },
    "papermill": {
     "duration": 1.819688,
     "end_time": "2025-09-20T23:27:55.684117",
     "exception": false,
     "start_time": "2025-09-20T23:27:53.864429",
     "status": "completed"
    },
    "tags": []
   },
   "outputs": [],
   "source": [
    "import nltk"
   ]
  },
  {
   "cell_type": "code",
   "execution_count": 34,
   "id": "a4f62584",
   "metadata": {
    "execution": {
     "iopub.execute_input": "2025-09-20T23:27:55.774509Z",
     "iopub.status.busy": "2025-09-20T23:27:55.773411Z",
     "iopub.status.idle": "2025-09-20T23:27:55.775403Z",
     "shell.execute_reply": "2025-09-20T23:27:55.775954Z",
     "shell.execute_reply.started": "2025-09-20T23:15:19.967447Z"
    },
    "papermill": {
     "duration": 0.051085,
     "end_time": "2025-09-20T23:27:55.776145",
     "exception": false,
     "start_time": "2025-09-20T23:27:55.725060",
     "status": "completed"
    },
    "tags": []
   },
   "outputs": [],
   "source": [
    "from nltk.stem.porter import PorterStemmer\n",
    "ps = PorterStemmer()"
   ]
  },
  {
   "cell_type": "code",
   "execution_count": 35,
   "id": "81675586",
   "metadata": {
    "execution": {
     "iopub.execute_input": "2025-09-20T23:27:55.864059Z",
     "iopub.status.busy": "2025-09-20T23:27:55.863076Z",
     "iopub.status.idle": "2025-09-20T23:27:55.865243Z",
     "shell.execute_reply": "2025-09-20T23:27:55.865714Z",
     "shell.execute_reply.started": "2025-09-20T23:15:19.985796Z"
    },
    "papermill": {
     "duration": 0.048597,
     "end_time": "2025-09-20T23:27:55.865882",
     "exception": false,
     "start_time": "2025-09-20T23:27:55.817285",
     "status": "completed"
    },
    "tags": []
   },
   "outputs": [],
   "source": [
    "def stem(text):\n",
    "    y = []\n",
    "    for i in text.split():\n",
    "        y.append(ps.stem(i))\n",
    "    return \" \".join(y)"
   ]
  },
  {
   "cell_type": "code",
   "execution_count": 36,
   "id": "d2e72ec6",
   "metadata": {
    "execution": {
     "iopub.execute_input": "2025-09-20T23:27:55.983805Z",
     "iopub.status.busy": "2025-09-20T23:27:55.963085Z",
     "iopub.status.idle": "2025-09-20T23:28:10.054780Z",
     "shell.execute_reply": "2025-09-20T23:28:10.054158Z",
     "shell.execute_reply.started": "2025-09-20T23:15:20.000792Z"
    },
    "papermill": {
     "duration": 14.148526,
     "end_time": "2025-09-20T23:28:10.054953",
     "exception": false,
     "start_time": "2025-09-20T23:27:55.906427",
     "status": "completed"
    },
    "tags": []
   },
   "outputs": [],
   "source": [
    "new_df['Tags'] = new_df['Tags'].apply(stem)"
   ]
  },
  {
   "cell_type": "code",
   "execution_count": 37,
   "id": "d9c9340d",
   "metadata": {
    "execution": {
     "iopub.execute_input": "2025-09-20T23:28:10.145574Z",
     "iopub.status.busy": "2025-09-20T23:28:10.144485Z",
     "iopub.status.idle": "2025-09-20T23:28:10.146577Z",
     "shell.execute_reply": "2025-09-20T23:28:10.147116Z",
     "shell.execute_reply.started": "2025-09-20T23:15:33.403897Z"
    },
    "papermill": {
     "duration": 0.048871,
     "end_time": "2025-09-20T23:28:10.147322",
     "exception": false,
     "start_time": "2025-09-20T23:28:10.098451",
     "status": "completed"
    },
    "tags": []
   },
   "outputs": [],
   "source": [
    "from sklearn.feature_extraction.text import CountVectorizer\n",
    "cv = CountVectorizer(max_features=6000, stop_words='english')"
   ]
  },
  {
   "cell_type": "code",
   "execution_count": 38,
   "id": "6716772e",
   "metadata": {
    "execution": {
     "iopub.execute_input": "2025-09-20T23:28:10.264801Z",
     "iopub.status.busy": "2025-09-20T23:28:10.259678Z",
     "iopub.status.idle": "2025-09-20T23:28:11.094854Z",
     "shell.execute_reply": "2025-09-20T23:28:11.094249Z",
     "shell.execute_reply.started": "2025-09-20T23:15:33.410662Z"
    },
    "papermill": {
     "duration": 0.905788,
     "end_time": "2025-09-20T23:28:11.095013",
     "exception": false,
     "start_time": "2025-09-20T23:28:10.189225",
     "status": "completed"
    },
    "tags": []
   },
   "outputs": [],
   "source": [
    "vectors = cv.fit_transform(new_df['Tags']).toarray()"
   ]
  },
  {
   "cell_type": "code",
   "execution_count": 39,
   "id": "a523cc61",
   "metadata": {
    "execution": {
     "iopub.execute_input": "2025-09-20T23:28:11.182949Z",
     "iopub.status.busy": "2025-09-20T23:28:11.181912Z",
     "iopub.status.idle": "2025-09-20T23:28:11.186881Z",
     "shell.execute_reply": "2025-09-20T23:28:11.186338Z",
     "shell.execute_reply.started": "2025-09-20T23:15:34.220519Z"
    },
    "papermill": {
     "duration": 0.051553,
     "end_time": "2025-09-20T23:28:11.187050",
     "exception": false,
     "start_time": "2025-09-20T23:28:11.135497",
     "status": "completed"
    },
    "tags": []
   },
   "outputs": [
    {
     "data": {
      "text/plain": [
       "array([0, 0, 0, ..., 0, 0, 0])"
      ]
     },
     "execution_count": 39,
     "metadata": {},
     "output_type": "execute_result"
    }
   ],
   "source": [
    "vectors[0]"
   ]
  },
  {
   "cell_type": "code",
   "execution_count": 40,
   "id": "61d835c1",
   "metadata": {
    "execution": {
     "iopub.execute_input": "2025-09-20T23:28:11.295547Z",
     "iopub.status.busy": "2025-09-20T23:28:11.294749Z",
     "iopub.status.idle": "2025-09-20T23:28:11.299120Z",
     "shell.execute_reply": "2025-09-20T23:28:11.299560Z",
     "shell.execute_reply.started": "2025-09-20T23:15:34.228486Z"
    },
    "papermill": {
     "duration": 0.070566,
     "end_time": "2025-09-20T23:28:11.299760",
     "exception": false,
     "start_time": "2025-09-20T23:28:11.229194",
     "status": "completed"
    },
    "tags": []
   },
   "outputs": [
    {
     "data": {
      "text/plain": [
       "['000',\n",
       " '01',\n",
       " '02',\n",
       " '10',\n",
       " '100',\n",
       " '10th',\n",
       " '11',\n",
       " '11th',\n",
       " '12',\n",
       " '12th',\n",
       " '13',\n",
       " '13th',\n",
       " '14',\n",
       " '15',\n",
       " '150',\n",
       " '15th',\n",
       " '16',\n",
       " '16th',\n",
       " '17',\n",
       " '18',\n",
       " '19',\n",
       " '1920',\n",
       " '1923',\n",
       " '1964',\n",
       " '1983',\n",
       " '1996',\n",
       " '1998',\n",
       " '1999',\n",
       " '1st',\n",
       " '20',\n",
       " '200',\n",
       " '2010',\n",
       " '2011',\n",
       " '2012',\n",
       " '2015',\n",
       " '2016',\n",
       " '2019',\n",
       " '2020',\n",
       " '2071',\n",
       " '21',\n",
       " '21st',\n",
       " '22',\n",
       " '23',\n",
       " '24',\n",
       " '24th',\n",
       " '25',\n",
       " '26',\n",
       " '27',\n",
       " '28',\n",
       " '2nd',\n",
       " '30',\n",
       " '30th',\n",
       " '3d',\n",
       " '3rd',\n",
       " '50',\n",
       " '500',\n",
       " '5pb',\n",
       " '5th',\n",
       " '67th',\n",
       " '6th',\n",
       " '7th',\n",
       " '8th',\n",
       " 'abandon',\n",
       " 'abduct',\n",
       " 'abe',\n",
       " 'abil',\n",
       " 'abilities',\n",
       " 'ability',\n",
       " 'abl',\n",
       " 'aboard',\n",
       " 'abov',\n",
       " 'abras',\n",
       " 'absence',\n",
       " 'absolut',\n",
       " 'absolute',\n",
       " 'absorb',\n",
       " 'abus',\n",
       " 'abyss',\n",
       " 'academ',\n",
       " 'academi',\n",
       " 'academy',\n",
       " 'accept',\n",
       " 'acceptance',\n",
       " 'access',\n",
       " 'accid',\n",
       " 'accident',\n",
       " 'acclaim',\n",
       " 'accompani',\n",
       " 'accomplish',\n",
       " 'accomplishment',\n",
       " 'accord',\n",
       " 'account',\n",
       " 'accus',\n",
       " 'accustom',\n",
       " 'ace',\n",
       " 'acerola',\n",
       " 'aces',\n",
       " 'achiev',\n",
       " 'ackerman',\n",
       " 'acknowledg',\n",
       " 'acquaint',\n",
       " 'acquaintance',\n",
       " 'acquir',\n",
       " 'act',\n",
       " 'action',\n",
       " 'actions',\n",
       " 'activ',\n",
       " 'activities',\n",
       " 'actor',\n",
       " 'actress',\n",
       " 'actual',\n",
       " 'ad',\n",
       " 'adapt',\n",
       " 'adaption',\n",
       " 'add',\n",
       " 'addict',\n",
       " 'addit',\n",
       " 'addition',\n",
       " 'additionally',\n",
       " 'address',\n",
       " 'adjust',\n",
       " 'admir',\n",
       " 'adol',\n",
       " 'adopt',\n",
       " 'ador',\n",
       " 'adult',\n",
       " 'adulthood',\n",
       " 'advanc',\n",
       " 'advantag',\n",
       " 'adventur',\n",
       " 'adventure',\n",
       " 'adventures',\n",
       " 'adversari',\n",
       " 'adversary',\n",
       " 'advertis',\n",
       " 'advic',\n",
       " 'advisor',\n",
       " 'aerial',\n",
       " 'affair',\n",
       " 'affect',\n",
       " 'affection',\n",
       " 'affili',\n",
       " 'affirmative',\n",
       " 'afflict',\n",
       " 'afoot',\n",
       " 'afraid',\n",
       " 'africa',\n",
       " 'aft',\n",
       " 'aftermath',\n",
       " 'afternoon',\n",
       " 'afterward',\n",
       " 'ag',\n",
       " 'agatsuma',\n",
       " 'age',\n",
       " 'agenc',\n",
       " 'agency',\n",
       " 'agenda',\n",
       " 'agent',\n",
       " 'ago',\n",
       " 'agre',\n",
       " 'agreement',\n",
       " 'agrees',\n",
       " 'agumon',\n",
       " 'ahead',\n",
       " 'ai',\n",
       " 'aiba',\n",
       " 'aichi',\n",
       " 'aid',\n",
       " 'aikawa',\n",
       " 'aiko',\n",
       " 'aim',\n",
       " 'air',\n",
       " 'airhead',\n",
       " 'aka',\n",
       " 'akagi',\n",
       " 'akan',\n",
       " 'akari',\n",
       " 'akashi',\n",
       " 'akatsuki',\n",
       " 'akechi',\n",
       " 'aki',\n",
       " 'akihabara',\n",
       " 'akihiko',\n",
       " 'akina',\n",
       " 'akira',\n",
       " 'akito',\n",
       " 'akiyama',\n",
       " 'akkun',\n",
       " 'ako',\n",
       " 'aku',\n",
       " 'akuto',\n",
       " 'akuusha',\n",
       " 'al',\n",
       " 'alarm',\n",
       " 'alarmingli',\n",
       " 'albeit',\n",
       " 'albion',\n",
       " 'album',\n",
       " 'alchem',\n",
       " 'alchemi',\n",
       " 'alchemist',\n",
       " 'alcia',\n",
       " 'alcohol',\n",
       " 'alia',\n",
       " 'alic',\n",
       " 'alice',\n",
       " 'alien',\n",
       " 'aliens',\n",
       " 'alike',\n",
       " 'aliv',\n",
       " 'alive',\n",
       " 'alleg',\n",
       " 'allen',\n",
       " 'alli',\n",
       " 'allianc',\n",
       " 'alliance',\n",
       " 'allies',\n",
       " 'allow',\n",
       " 'allur',\n",
       " 'ally',\n",
       " 'alma',\n",
       " 'almighti',\n",
       " 'alola',\n",
       " 'alon',\n",
       " 'alongsid',\n",
       " 'aloof',\n",
       " 'alphons',\n",
       " 'alphonse',\n",
       " 'alpin',\n",
       " 'alreadi',\n",
       " 'altana',\n",
       " 'alter',\n",
       " 'altern',\n",
       " 'alternate',\n",
       " 'alway',\n",
       " 'amalgam',\n",
       " 'amami',\n",
       " 'amamiya',\n",
       " 'amano',\n",
       " 'amanto',\n",
       " 'amanuens',\n",
       " 'amaz',\n",
       " 'amazon',\n",
       " 'ambit',\n",
       " 'ambiti',\n",
       " 'ambition',\n",
       " 'ambush',\n",
       " 'ame',\n",
       " 'amend',\n",
       " 'amends',\n",
       " 'america',\n",
       " 'american',\n",
       " 'ami',\n",
       " 'amidst',\n",
       " 'amon',\n",
       " 'amus',\n",
       " 'amusement',\n",
       " 'anbot',\n",
       " 'ancestor',\n",
       " 'ancestr',\n",
       " 'anchored',\n",
       " 'ancient',\n",
       " 'android',\n",
       " 'ang',\n",
       " 'angel',\n",
       " 'angela',\n",
       " 'angeliqu',\n",
       " 'angels',\n",
       " 'anger',\n",
       " 'angri',\n",
       " 'ani',\n",
       " 'anidb',\n",
       " 'anim',\n",
       " 'animals',\n",
       " 'animation',\n",
       " 'anime',\n",
       " 'animenfo',\n",
       " 'aniplex',\n",
       " 'ann',\n",
       " 'anna',\n",
       " 'annihilator',\n",
       " 'anniversari',\n",
       " 'anniversary',\n",
       " 'announc',\n",
       " 'annoy',\n",
       " 'annual',\n",
       " 'anomali',\n",
       " 'anonym',\n",
       " 'anoth',\n",
       " 'answer',\n",
       " 'answers',\n",
       " 'antarctica',\n",
       " 'anthropomorph',\n",
       " 'anti',\n",
       " 'antic',\n",
       " 'anticip',\n",
       " 'antics',\n",
       " 'antiqu',\n",
       " 'anxieti',\n",
       " 'anymore',\n",
       " 'anyon',\n",
       " 'anyth',\n",
       " 'anzai',\n",
       " 'ao',\n",
       " 'aoba',\n",
       " 'aoi',\n",
       " 'aoki',\n",
       " 'aozaki',\n",
       " 'apart',\n",
       " 'apocalypt',\n",
       " 'appar',\n",
       " 'apparently',\n",
       " 'apparit',\n",
       " 'apparition',\n",
       " 'apparitions',\n",
       " 'appeal',\n",
       " 'appear',\n",
       " 'appearance',\n",
       " 'appeared',\n",
       " 'appears',\n",
       " 'appetite',\n",
       " 'appl',\n",
       " 'applaud',\n",
       " 'appli',\n",
       " 'appmon',\n",
       " 'appoint',\n",
       " 'apprehend',\n",
       " 'apprentic',\n",
       " 'apprentice',\n",
       " 'approach',\n",
       " 'approaches',\n",
       " 'approaching',\n",
       " 'april',\n",
       " 'ar',\n",
       " 'arachna',\n",
       " 'aragami',\n",
       " 'araki',\n",
       " 'aramaki',\n",
       " 'arami',\n",
       " 'araragi',\n",
       " 'arata',\n",
       " 'arataka',\n",
       " 'aratama',\n",
       " 'arbiter',\n",
       " 'arc',\n",
       " 'arcadia',\n",
       " 'arch',\n",
       " 'archer',\n",
       " 'architecture',\n",
       " 'archriv',\n",
       " 'area',\n",
       " 'areas',\n",
       " 'aren',\n",
       " 'arena',\n",
       " 'aret',\n",
       " 'argama',\n",
       " 'aria',\n",
       " 'arikawa',\n",
       " 'arima',\n",
       " 'aris',\n",
       " 'arises',\n",
       " 'aristocrat',\n",
       " 'ark',\n",
       " 'arlert',\n",
       " 'arm',\n",
       " 'arma',\n",
       " 'armi',\n",
       " 'armin',\n",
       " 'armor',\n",
       " 'arms',\n",
       " 'army',\n",
       " 'arrang',\n",
       " 'arrest',\n",
       " 'arriv',\n",
       " 'arrival',\n",
       " 'arrive',\n",
       " 'arrives',\n",
       " 'arriving',\n",
       " 'arrog',\n",
       " 'arslan',\n",
       " 'arsèn',\n",
       " 'art',\n",
       " 'artagnan',\n",
       " 'artifact',\n",
       " 'artifici',\n",
       " 'artist',\n",
       " 'artistic',\n",
       " 'arts',\n",
       " 'asahi',\n",
       " 'asahina',\n",
       " 'asakura',\n",
       " 'ascend',\n",
       " 'ash',\n",
       " 'ashford',\n",
       " 'ashirogi',\n",
       " 'ashitaka',\n",
       " 'asid',\n",
       " 'ask',\n",
       " 'askeladd',\n",
       " 'aspect',\n",
       " 'aspir',\n",
       " 'aspirations',\n",
       " 'assail',\n",
       " 'assailant',\n",
       " 'assassin',\n",
       " 'assault',\n",
       " 'assemble',\n",
       " 'assign',\n",
       " 'assimil',\n",
       " 'assist',\n",
       " 'assistant',\n",
       " 'assistants',\n",
       " 'associ',\n",
       " 'assum',\n",
       " 'asteroid',\n",
       " 'astonishment',\n",
       " 'astounded',\n",
       " 'astral',\n",
       " 'astronaut',\n",
       " 'astronomi',\n",
       " 'asu',\n",
       " 'asuha',\n",
       " 'asuka',\n",
       " 'asuna',\n",
       " 'asylum',\n",
       " 'ataru',\n",
       " 'athena',\n",
       " 'athlet',\n",
       " 'atlantia',\n",
       " 'atop',\n",
       " 'atsumi',\n",
       " 'atsumu',\n",
       " 'atsushi',\n",
       " 'attach',\n",
       " 'attack',\n",
       " 'attacks',\n",
       " 'attain',\n",
       " 'attempt',\n",
       " 'attend',\n",
       " 'attent',\n",
       " 'attention',\n",
       " 'attract',\n",
       " 'audienc',\n",
       " 'audience',\n",
       " 'audio',\n",
       " 'august',\n",
       " 'aunt',\n",
       " 'aura',\n",
       " 'author',\n",
       " 'auto',\n",
       " 'autobot',\n",
       " 'autocraci',\n",
       " 'automail',\n",
       " 'autumn',\n",
       " 'avail',\n",
       " 'avant',\n",
       " 'avantgard',\n",
       " 'avatar',\n",
       " 'aveng',\n",
       " 'averag',\n",
       " 'avert',\n",
       " 'averted',\n",
       " 'avoid',\n",
       " 'await',\n",
       " 'awaits',\n",
       " 'awake',\n",
       " 'awaken',\n",
       " 'awar',\n",
       " 'award',\n",
       " 'aware',\n",
       " 'away',\n",
       " 'awe',\n",
       " 'awkward',\n",
       " 'awkwardness',\n",
       " 'awry',\n",
       " 'aya',\n",
       " 'ayaka',\n",
       " 'ayakashi',\n",
       " 'ayanagi',\n",
       " 'ayanami',\n",
       " 'ayano',\n",
       " 'ayanokoji',\n",
       " 'ayato',\n",
       " 'ayu',\n",
       " 'ayumu',\n",
       " 'azuki',\n",
       " 'azuma',\n",
       " 'azusagawa',\n",
       " 'babi',\n",
       " 'baby',\n",
       " 'background',\n",
       " 'backstori',\n",
       " 'bad',\n",
       " 'badminton',\n",
       " 'bag',\n",
       " 'bagra',\n",
       " 'baka',\n",
       " 'baki',\n",
       " 'baku',\n",
       " 'bakufu',\n",
       " 'bakuman',\n",
       " 'balanc',\n",
       " 'balance',\n",
       " 'ball',\n",
       " 'balls',\n",
       " 'ban',\n",
       " 'banana',\n",
       " 'bananya',\n",
       " 'band',\n",
       " 'bandit',\n",
       " 'bandits',\n",
       " 'bang',\n",
       " 'banip',\n",
       " 'banner',\n",
       " 'banquet',\n",
       " 'bar',\n",
       " 'bare',\n",
       " 'bargain',\n",
       " 'barren',\n",
       " 'barrier',\n",
       " 'basara',\n",
       " 'base',\n",
       " 'basebal',\n",
       " 'baseless',\n",
       " 'basement',\n",
       " 'basho',\n",
       " 'basic',\n",
       " 'basket',\n",
       " 'basketbal',\n",
       " 'basketball',\n",
       " 'bass',\n",
       " 'bastion',\n",
       " 'bat',\n",
       " 'bath',\n",
       " 'bathroom',\n",
       " 'baton',\n",
       " 'batou',\n",
       " 'battl',\n",
       " 'battle',\n",
       " 'battlefield',\n",
       " 'battleground',\n",
       " 'battles',\n",
       " 'battleship',\n",
       " 'battousai',\n",
       " 'bay',\n",
       " 'bd',\n",
       " 'beach',\n",
       " 'beam',\n",
       " 'bear',\n",
       " 'bears',\n",
       " 'beast',\n",
       " 'beastmen',\n",
       " 'beat',\n",
       " 'beaten',\n",
       " 'beauti',\n",
       " 'beautiful',\n",
       " 'bebop',\n",
       " 'becam',\n",
       " 'becaus',\n",
       " 'becom',\n",
       " 'bed',\n",
       " 'bedridden',\n",
       " 'bee',\n",
       " 'beet',\n",
       " 'befit',\n",
       " 'befor',\n",
       " 'befriend',\n",
       " 'began',\n",
       " 'begin',\n",
       " 'beginning',\n",
       " 'begins',\n",
       " 'begun',\n",
       " 'behavior',\n",
       " 'behest',\n",
       " 'bei',\n",
       " 'beings',\n",
       " 'belief',\n",
       " 'beliefs',\n",
       " 'believ',\n",
       " 'believe',\n",
       " 'bell',\n",
       " 'belong',\n",
       " 'belov',\n",
       " 'belt',\n",
       " 'bending',\n",
       " 'beneath',\n",
       " 'benizakura',\n",
       " 'bent',\n",
       " 'best',\n",
       " 'bestow',\n",
       " 'bet',\n",
       " 'betray',\n",
       " 'better',\n",
       " 'bewildered',\n",
       " 'beyblad',\n",
       " 'beyblade',\n",
       " 'bid',\n",
       " 'big',\n",
       " 'bigger',\n",
       " 'biggest',\n",
       " 'bijou',\n",
       " 'bik',\n",
       " 'bike',\n",
       " 'billion',\n",
       " 'billow',\n",
       " 'bind',\n",
       " 'bio',\n",
       " 'bioroid',\n",
       " 'bird',\n",
       " 'birth',\n",
       " 'birthday',\n",
       " 'biscotti',\n",
       " 'bit',\n",
       " 'bite',\n",
       " 'bitter',\n",
       " 'bitterli',\n",
       " 'bizarr',\n",
       " 'black',\n",
       " 'blackboard',\n",
       " 'blacksmith',\n",
       " 'blade',\n",
       " 'bladebreak',\n",
       " 'blader',\n",
       " 'blame',\n",
       " 'blaster',\n",
       " 'blasters',\n",
       " 'blatantli',\n",
       " 'blaze',\n",
       " 'bleak',\n",
       " 'bless',\n",
       " 'blind',\n",
       " 'blindli',\n",
       " 'bliss',\n",
       " 'block',\n",
       " 'blocks',\n",
       " 'blog',\n",
       " 'blond',\n",
       " 'blood',\n",
       " 'bloodi',\n",
       " 'bloodlin',\n",
       " 'bloodlust',\n",
       " 'bloodsh',\n",
       " 'bloodthirsti',\n",
       " 'bloom',\n",
       " 'blossom',\n",
       " 'blow',\n",
       " 'blown',\n",
       " 'blu',\n",
       " 'blue',\n",
       " 'blunt',\n",
       " 'blur',\n",
       " 'blurt',\n",
       " 'boar',\n",
       " 'board',\n",
       " 'boat',\n",
       " 'bodi',\n",
       " 'body',\n",
       " 'bodyguard',\n",
       " 'boisterous',\n",
       " 'bojji',\n",
       " 'boku',\n",
       " 'bomb',\n",
       " 'bomber',\n",
       " 'bond',\n",
       " 'bondrewd',\n",
       " 'bonds',\n",
       " 'bone',\n",
       " 'bonedrewd',\n",
       " 'bonu',\n",
       " 'book',\n",
       " 'books',\n",
       " 'bookworm',\n",
       " 'boom',\n",
       " 'boon',\n",
       " 'border',\n",
       " 'bore',\n",
       " 'borea',\n",
       " 'boredom',\n",
       " 'born',\n",
       " 'borrow',\n",
       " 'boss',\n",
       " 'bottl',\n",
       " 'bouken',\n",
       " 'bound',\n",
       " 'boundari',\n",
       " 'bounti',\n",
       " 'bow',\n",
       " 'box',\n",
       " 'boxer',\n",
       " 'boxing',\n",
       " 'boy',\n",
       " 'boyfriend',\n",
       " 'boys',\n",
       " 'boyslov',\n",
       " 'brain',\n",
       " 'branch',\n",
       " 'brand',\n",
       " 'braun',\n",
       " 'brave',\n",
       " 'bravest',\n",
       " 'break',\n",
       " 'breakthrough',\n",
       " 'breath',\n",
       " 'breed',\n",
       " 'brewing',\n",
       " 'bride',\n",
       " 'brief',\n",
       " 'briefcase',\n",
       " 'briefli',\n",
       " 'brigade',\n",
       " 'bright',\n",
       " 'brighten',\n",
       " 'brillianc',\n",
       " 'brilliant',\n",
       " 'brim',\n",
       " 'bring',\n",
       " 'britannia',\n",
       " 'britannian',\n",
       " 'broadcast',\n",
       " 'broke',\n",
       " 'broken',\n",
       " 'brother',\n",
       " 'brothers',\n",
       " 'brought',\n",
       " 'brown',\n",
       " 'bruno',\n",
       " 'brutal',\n",
       " 'bu',\n",
       " 'bubbl',\n",
       " 'bubblegum',\n",
       " 'buccellati',\n",
       " 'bud',\n",
       " 'buddhist',\n",
       " 'buddi',\n",
       " 'buddyfight',\n",
       " 'buffalo',\n",
       " 'build',\n",
       " 'building',\n",
       " 'built',\n",
       " 'bulbapedia',\n",
       " 'bullet',\n",
       " 'bulli',\n",
       " 'bullying',\n",
       " 'bulma',\n",
       " 'bump',\n",
       " 'bunch',\n",
       " 'bundl',\n",
       " 'bunni',\n",
       " 'buoyancy',\n",
       " 'burden',\n",
       " 'bureau',\n",
       " 'buri',\n",
       " 'burn',\n",
       " 'burst',\n",
       " 'bushiroad',\n",
       " 'busi',\n",
       " 'business',\n",
       " 'buster',\n",
       " 'bustl',\n",
       " 'butei',\n",
       " 'butt',\n",
       " 'butterfli',\n",
       " 'butterfly',\n",
       " 'buy',\n",
       " 'byogen',\n",
       " 'cabinet',\n",
       " 'cacophoni',\n",
       " 'cadets',\n",
       " 'caelum',\n",
       " 'cafe',\n",
       " 'cage',\n",
       " 'cake',\n",
       " 'calam',\n",
       " 'calamity',\n",
       " 'calm',\n",
       " 'calon',\n",
       " 'camaraderi',\n",
       " 'camaraderie',\n",
       " 'came',\n",
       " 'camera',\n",
       " 'camp',\n",
       " 'campaign',\n",
       " 'camping',\n",
       " 'campu',\n",
       " 'campus',\n",
       " 'canceled',\n",
       " 'candi',\n",
       " 'candid',\n",
       " 'candy',\n",
       " 'cannon',\n",
       " 'capabilities',\n",
       " 'capabl',\n",
       " 'capit',\n",
       " 'capital',\n",
       " 'capsul',\n",
       " 'captain',\n",
       " 'captiv',\n",
       " 'captur',\n",
       " 'car',\n",
       " 'card',\n",
       " 'cardfight',\n",
       " 'cardia',\n",
       " 'cardinal',\n",
       " 'cards',\n",
       " 'care',\n",
       " 'career',\n",
       " 'carefre',\n",
       " 'carlo',\n",
       " 'carri',\n",
       " 'carrier',\n",
       " 'carries',\n",
       " 'carv',\n",
       " 'case',\n",
       " 'casey',\n",
       " 'cash',\n",
       " 'cast',\n",
       " 'castl',\n",
       " 'castle',\n",
       " 'casualties',\n",
       " 'cat',\n",
       " 'catastroph',\n",
       " 'catastrophe',\n",
       " 'catch',\n",
       " 'catgirls',\n",
       " 'catian',\n",
       " 'cats',\n",
       " 'caught',\n",
       " 'caus',\n",
       " 'cause',\n",
       " 'cautious',\n",
       " 'cave',\n",
       " 'cd',\n",
       " 'cecili',\n",
       " 'cecilia',\n",
       " 'celebi',\n",
       " 'celebr',\n",
       " 'celebration',\n",
       " 'celesti',\n",
       " 'cell',\n",
       " 'cendrillon',\n",
       " 'center',\n",
       " 'centr',\n",
       " 'central',\n",
       " 'centuri',\n",
       " 'century',\n",
       " 'ceo',\n",
       " 'cephiro',\n",
       " 'ceremoni',\n",
       " 'ceremony',\n",
       " 'certain',\n",
       " 'certainli',\n",
       " 'cg',\n",
       " 'ch',\n",
       " 'chain',\n",
       " 'challeng',\n",
       " 'challenge',\n",
       " 'challenges',\n",
       " 'champion',\n",
       " 'championship',\n",
       " 'championships',\n",
       " 'chan',\n",
       " 'chanc',\n",
       " 'chance',\n",
       " 'chang',\n",
       " 'change',\n",
       " 'changed',\n",
       " 'changes',\n",
       " 'channel',\n",
       " 'chant',\n",
       " 'chao',\n",
       " 'chaos',\n",
       " 'chaotic',\n",
       " 'chapter',\n",
       " 'char',\n",
       " 'charact',\n",
       " 'character',\n",
       " 'characters',\n",
       " 'charat',\n",
       " 'charcoal',\n",
       " 'charg',\n",
       " 'charismat',\n",
       " 'charlott',\n",
       " 'charm',\n",
       " 'chase',\n",
       " 'chaser',\n",
       " 'chasm',\n",
       " 'chat',\n",
       " 'chateau',\n",
       " 'check',\n",
       " 'cheek',\n",
       " 'cheer',\n",
       " 'cheerlead',\n",
       " 'chen',\n",
       " 'cheng',\n",
       " 'cherri',\n",
       " 'chest',\n",
       " 'chi',\n",
       " 'chibi',\n",
       " 'chief',\n",
       " 'chihaya',\n",
       " 'chihiro',\n",
       " 'chika',\n",
       " 'child',\n",
       " 'childhood',\n",
       " 'childlik',\n",
       " 'children',\n",
       " 'china',\n",
       " 'chines',\n",
       " 'chip',\n",
       " 'chirico',\n",
       " 'chitos',\n",
       " 'chitose',\n",
       " 'chivalri',\n",
       " 'chizuru',\n",
       " 'cho',\n",
       " 'chocchan',\n",
       " 'chocol',\n",
       " 'chocola',\n",
       " 'chocolate',\n",
       " 'choic',\n",
       " 'choice',\n",
       " 'choos',\n",
       " 'chores',\n",
       " 'choru',\n",
       " 'chose',\n",
       " 'chosen',\n",
       " 'chouhi',\n",
       " 'christen',\n",
       " 'christma',\n",
       " 'chronicl',\n",
       " 'chu',\n",
       " 'chulan',\n",
       " 'church',\n",
       " 'cider',\n",
       " 'cinderella',\n",
       " 'cinqu',\n",
       " 'circl',\n",
       " 'circle',\n",
       " 'circu',\n",
       " 'circuit',\n",
       " 'circumst',\n",
       " 'circumstance',\n",
       " 'circumstances',\n",
       " 'circus',\n",
       " 'citadel',\n",
       " 'citi',\n",
       " 'citizen',\n",
       " 'citizens',\n",
       " 'city',\n",
       " 'civil',\n",
       " 'civilian',\n",
       " 'civilians',\n",
       " 'clad',\n",
       " 'claim',\n",
       " 'clair',\n",
       " 'clamp',\n",
       " 'clan',\n",
       " 'clannad',\n",
       " 'clash',\n",
       " 'class',\n",
       " 'classes',\n",
       " 'classic',\n",
       " 'classifi',\n",
       " 'classmat',\n",
       " 'classmate',\n",
       " 'classmates',\n",
       " 'clean',\n",
       " 'cleans',\n",
       " 'clear',\n",
       " 'cleric',\n",
       " 'cless',\n",
       " 'client',\n",
       " 'clients',\n",
       " 'cliff',\n",
       " 'climax',\n",
       " 'climb',\n",
       " 'climbing',\n",
       " 'cling',\n",
       " 'clip',\n",
       " 'clock',\n",
       " 'close',\n",
       " 'closer',\n",
       " 'closest',\n",
       " 'closur',\n",
       " 'cloth',\n",
       " 'clothes',\n",
       " 'cloud',\n",
       " 'clover',\n",
       " 'club',\n",
       " 'clubroom',\n",
       " 'clubs',\n",
       " 'clue',\n",
       " 'clueless',\n",
       " 'clumsi',\n",
       " 'cluster',\n",
       " 'coach',\n",
       " 'coal',\n",
       " 'coalit',\n",
       " 'coastal',\n",
       " 'cobra',\n",
       " ...]"
      ]
     },
     "execution_count": 40,
     "metadata": {},
     "output_type": "execute_result"
    }
   ],
   "source": [
    "cv.get_feature_names()"
   ]
  },
  {
   "cell_type": "code",
   "execution_count": 41,
   "id": "c271b1ef",
   "metadata": {
    "execution": {
     "iopub.execute_input": "2025-09-20T23:28:11.390055Z",
     "iopub.status.busy": "2025-09-20T23:28:11.389030Z",
     "iopub.status.idle": "2025-09-20T23:28:11.392162Z",
     "shell.execute_reply": "2025-09-20T23:28:11.391441Z",
     "shell.execute_reply.started": "2025-09-20T23:15:34.262254Z"
    },
    "papermill": {
     "duration": 0.050035,
     "end_time": "2025-09-20T23:28:11.392307",
     "exception": false,
     "start_time": "2025-09-20T23:28:11.342272",
     "status": "completed"
    },
    "tags": []
   },
   "outputs": [],
   "source": [
    "from sklearn.metrics.pairwise import cosine_similarity"
   ]
  },
  {
   "cell_type": "code",
   "execution_count": 42,
   "id": "9ac2d868",
   "metadata": {
    "execution": {
     "iopub.execute_input": "2025-09-20T23:28:11.483625Z",
     "iopub.status.busy": "2025-09-20T23:28:11.482945Z",
     "iopub.status.idle": "2025-09-20T23:28:15.373659Z",
     "shell.execute_reply": "2025-09-20T23:28:15.372600Z",
     "shell.execute_reply.started": "2025-09-20T23:15:34.271118Z"
    },
    "papermill": {
     "duration": 3.939553,
     "end_time": "2025-09-20T23:28:15.373857",
     "exception": false,
     "start_time": "2025-09-20T23:28:11.434304",
     "status": "completed"
    },
    "tags": []
   },
   "outputs": [
    {
     "data": {
      "text/plain": [
       "array([[1.        , 0.05804739, 0.03275829, ..., 0.07536071, 0.03425944,\n",
       "        0.        ],\n",
       "       [0.05804739, 1.        , 0.24976635, ..., 0.08696491, 0.        ,\n",
       "        0.        ],\n",
       "       [0.03275829, 0.24976635, 1.        , ..., 0.05258305, 0.        ,\n",
       "        0.        ],\n",
       "       ...,\n",
       "       [0.07536071, 0.08696491, 0.05258305, ..., 1.        , 0.        ,\n",
       "        0.03919309],\n",
       "       [0.03425944, 0.        , 0.        , ..., 0.        , 1.        ,\n",
       "        0.08908708],\n",
       "       [0.        , 0.        , 0.        , ..., 0.03919309, 0.08908708,\n",
       "        1.        ]])"
      ]
     },
     "execution_count": 42,
     "metadata": {},
     "output_type": "execute_result"
    }
   ],
   "source": [
    "similarity = cosine_similarity(vectors)\n",
    "similarity"
   ]
  },
  {
   "cell_type": "code",
   "execution_count": 43,
   "id": "974b26a1",
   "metadata": {
    "execution": {
     "iopub.execute_input": "2025-09-20T23:28:15.465089Z",
     "iopub.status.busy": "2025-09-20T23:28:15.464275Z",
     "iopub.status.idle": "2025-09-20T23:28:15.468140Z",
     "shell.execute_reply": "2025-09-20T23:28:15.468580Z",
     "shell.execute_reply.started": "2025-09-20T23:15:38.136504Z"
    },
    "papermill": {
     "duration": 0.05206,
     "end_time": "2025-09-20T23:28:15.468789",
     "exception": false,
     "start_time": "2025-09-20T23:28:15.416729",
     "status": "completed"
    },
    "tags": []
   },
   "outputs": [
    {
     "data": {
      "text/plain": [
       "(5936, 5936)"
      ]
     },
     "execution_count": 43,
     "metadata": {},
     "output_type": "execute_result"
    }
   ],
   "source": [
    "similarity.shape"
   ]
  },
  {
   "cell_type": "code",
   "execution_count": 44,
   "id": "10e6e85d",
   "metadata": {
    "execution": {
     "iopub.execute_input": "2025-09-20T23:28:15.564983Z",
     "iopub.status.busy": "2025-09-20T23:28:15.563877Z",
     "iopub.status.idle": "2025-09-20T23:28:15.568371Z",
     "shell.execute_reply": "2025-09-20T23:28:15.567771Z",
     "shell.execute_reply.started": "2025-09-20T23:15:38.145049Z"
    },
    "papermill": {
     "duration": 0.054369,
     "end_time": "2025-09-20T23:28:15.568515",
     "exception": false,
     "start_time": "2025-09-20T23:28:15.514146",
     "status": "completed"
    },
    "tags": []
   },
   "outputs": [
    {
     "data": {
      "text/plain": [
       "[0.4916558223388774,\n",
       " 0.33966717577121125,\n",
       " 0.3255151918880982,\n",
       " 0.3120196413514451,\n",
       " 0.3117234114261981]"
      ]
     },
     "execution_count": 44,
     "metadata": {},
     "output_type": "execute_result"
    }
   ],
   "source": [
    "sorted(set(similarity[1]), reverse=True)[1:6]"
   ]
  },
  {
   "cell_type": "code",
   "execution_count": 45,
   "id": "699c943b",
   "metadata": {
    "execution": {
     "iopub.execute_input": "2025-09-20T23:28:15.662586Z",
     "iopub.status.busy": "2025-09-20T23:28:15.661845Z",
     "iopub.status.idle": "2025-09-20T23:28:15.666102Z",
     "shell.execute_reply": "2025-09-20T23:28:15.665571Z",
     "shell.execute_reply.started": "2025-09-20T23:15:38.162185Z"
    },
    "papermill": {
     "duration": 0.054691,
     "end_time": "2025-09-20T23:28:15.666248",
     "exception": false,
     "start_time": "2025-09-20T23:28:15.611557",
     "status": "completed"
    },
    "tags": []
   },
   "outputs": [
    {
     "data": {
      "text/plain": [
       "1"
      ]
     },
     "execution_count": 45,
     "metadata": {},
     "output_type": "execute_result"
    }
   ],
   "source": [
    "new_df[new_df['Name'] == 'Shingeki no Kyojin: The Final Season Part 2'].index[0]"
   ]
  },
  {
   "cell_type": "code",
   "execution_count": 46,
   "id": "22cbcec4",
   "metadata": {
    "execution": {
     "iopub.execute_input": "2025-09-20T23:28:15.757372Z",
     "iopub.status.busy": "2025-09-20T23:28:15.756665Z",
     "iopub.status.idle": "2025-09-20T23:28:15.759632Z",
     "shell.execute_reply": "2025-09-20T23:28:15.760081Z",
     "shell.execute_reply.started": "2025-09-20T23:15:38.181438Z"
    },
    "papermill": {
     "duration": 0.050965,
     "end_time": "2025-09-20T23:28:15.760261",
     "exception": false,
     "start_time": "2025-09-20T23:28:15.709296",
     "status": "completed"
    },
    "tags": []
   },
   "outputs": [],
   "source": [
    "def recommend(anime):\n",
    "    anime_index = new_df[new_df['Name'] == anime].index[0]\n",
    "    anime_list = sorted(list(enumerate(set(similarity[anime_index]))), reverse=True, key=lambda x:x[1])[1:6]\n",
    "    \n",
    "    for i in anime_list:\n",
    "        print(new_df.iloc[i[0]].Name)"
   ]
  },
  {
   "cell_type": "code",
   "execution_count": 47,
   "id": "16d66bed",
   "metadata": {
    "execution": {
     "iopub.execute_input": "2025-09-20T23:28:15.856794Z",
     "iopub.status.busy": "2025-09-20T23:28:15.854239Z",
     "iopub.status.idle": "2025-09-20T23:28:15.860439Z",
     "shell.execute_reply": "2025-09-20T23:28:15.860874Z",
     "shell.execute_reply.started": "2025-09-20T23:15:38.193055Z"
    },
    "papermill": {
     "duration": 0.057173,
     "end_time": "2025-09-20T23:28:15.861058",
     "exception": false,
     "start_time": "2025-09-20T23:28:15.803885",
     "status": "completed"
    },
    "tags": []
   },
   "outputs": [
    {
     "name": "stdout",
     "output_type": "stream",
     "text": [
      "Kaguya-sama wa Kokurasetai?: Tensai-tachi no Renai Zunousen\n",
      "Kimetsu no Yaiba: Yuukaku-hen\n",
      "Gintama.: Shirogane no Tamashii-hen - Kouhan-sen\n",
      "Haikyuu!!: To the Top 2nd Season\n",
      "Haikyuu!!: Karasuno Koukou vs. Shiratorizawa Gakuen Koukou\n"
     ]
    }
   ],
   "source": [
    "recommend('Great Teacher Onizuka')"
   ]
  },
  {
   "cell_type": "code",
   "execution_count": 48,
   "id": "0380f0ce",
   "metadata": {
    "execution": {
     "iopub.execute_input": "2025-09-20T23:28:15.954882Z",
     "iopub.status.busy": "2025-09-20T23:28:15.954168Z",
     "iopub.status.idle": "2025-09-20T23:28:15.956662Z",
     "shell.execute_reply": "2025-09-20T23:28:15.957158Z",
     "shell.execute_reply.started": "2025-09-20T23:22:43.298340Z"
    },
    "papermill": {
     "duration": 0.053753,
     "end_time": "2025-09-20T23:28:15.957332",
     "exception": false,
     "start_time": "2025-09-20T23:28:15.903579",
     "status": "completed"
    },
    "tags": []
   },
   "outputs": [],
   "source": [
    "def recommend(anime):\n",
    "    \"\"\"\n",
    "    Recommend similar anime based on Japanese name or English name.\n",
    "    \"\"\"\n",
    "    # Try to find by Japanese name first\n",
    "    if anime in new_df['Name'].values:\n",
    "        anime_index = new_df[new_df['Name'] == anime].index[0]\n",
    "    # Otherwise try English name\n",
    "    elif anime in new_df['English Name'].values:\n",
    "        anime_index = new_df[new_df['English Name'] == anime].index[0]\n",
    "    else:\n",
    "        raise ValueError(\"Anime not found in either Japanese 'Name' or 'English Name' columns.\")\n",
    "    \n",
    "    # Get top 5 similar anime\n",
    "    anime_list = sorted(\n",
    "        list(enumerate(set(similarity[anime_index]))), \n",
    "        reverse=True, \n",
    "        key=lambda x: x[1]\n",
    "    )[1:6]\n",
    "\n",
    "    # print(anime_list)\n",
    "    # Print recommendations (both names for clarity)\n",
    "    for i in anime_list:\n",
    "        row = new_df.iloc[i[0]]\n",
    "        # print(row['English Name'])\n",
    "        if type(row['English Name']) == float:\n",
    "            print(f\"{row['Name']}\")\n",
    "        else:\n",
    "            print(f\"{row['Name']} ({row['English Name']})\")\n"
   ]
  },
  {
   "cell_type": "code",
   "execution_count": 49,
   "id": "6d08aa88",
   "metadata": {
    "execution": {
     "iopub.execute_input": "2025-09-20T23:28:16.052413Z",
     "iopub.status.busy": "2025-09-20T23:28:16.051639Z",
     "iopub.status.idle": "2025-09-20T23:28:16.054996Z",
     "shell.execute_reply": "2025-09-20T23:28:16.055556Z",
     "shell.execute_reply.started": "2025-09-20T23:22:47.297582Z"
    },
    "papermill": {
     "duration": 0.055893,
     "end_time": "2025-09-20T23:28:16.055777",
     "exception": false,
     "start_time": "2025-09-20T23:28:15.999884",
     "status": "completed"
    },
    "tags": []
   },
   "outputs": [
    {
     "name": "stdout",
     "output_type": "stream",
     "text": [
      "Kaguya-sama wa Kokurasetai?: Tensai-tachi no Renai Zunousen (Kaguya-sama: Love is War Season 2)\n",
      "Kimetsu no Yaiba: Yuukaku-hen (Demon Slayer: Kimetsu no Yaiba Entertainment District Arc)\n",
      "Gintama.: Shirogane no Tamashii-hen - Kouhan-sen (Gintama.: Silver Soul Arc - Second Half War)\n",
      "Haikyuu!!: To the Top 2nd Season\n",
      "Haikyuu!!: Karasuno Koukou vs. Shiratorizawa Gakuen Koukou (Haikyu!! 3rd Season)\n"
     ]
    }
   ],
   "source": [
    "recommend('Great Teacher Onizuka')"
   ]
  },
  {
   "cell_type": "code",
   "execution_count": 50,
   "id": "05bc077f",
   "metadata": {
    "execution": {
     "iopub.execute_input": "2025-09-20T23:28:16.151724Z",
     "iopub.status.busy": "2025-09-20T23:28:16.151049Z",
     "iopub.status.idle": "2025-09-20T23:28:16.154918Z",
     "shell.execute_reply": "2025-09-20T23:28:16.155363Z",
     "shell.execute_reply.started": "2025-09-20T23:23:20.428572Z"
    },
    "papermill": {
     "duration": 0.056631,
     "end_time": "2025-09-20T23:28:16.155536",
     "exception": false,
     "start_time": "2025-09-20T23:28:16.098905",
     "status": "completed"
    },
    "tags": []
   },
   "outputs": [
    {
     "name": "stdout",
     "output_type": "stream",
     "text": [
      "Shingeki no Kyojin Season 3 Part 2 (Attack on Titan Season 3 Part 2)\n",
      "Ousama Ranking (Ranking of Kings)\n",
      "Vinland Saga\n",
      "Gintama° (Gintama Season 4)\n",
      "Shiguang Dailiren (Link Click)\n"
     ]
    }
   ],
   "source": [
    "recommend('Demon Slayer: Kimetsu no Yaiba Entertainment District Arc')"
   ]
  },
  {
   "cell_type": "code",
   "execution_count": null,
   "id": "66b71e69",
   "metadata": {
    "papermill": {
     "duration": 0.043938,
     "end_time": "2025-09-20T23:28:16.244594",
     "exception": false,
     "start_time": "2025-09-20T23:28:16.200656",
     "status": "completed"
    },
    "tags": []
   },
   "outputs": [],
   "source": []
  }
 ],
 "metadata": {
  "kaggle": {
   "accelerator": "none",
   "dataSources": [
    {
     "datasetId": 1931225,
     "sourceId": 3178675,
     "sourceType": "datasetVersion"
    }
   ],
   "dockerImageVersionId": 30157,
   "isGpuEnabled": false,
   "isInternetEnabled": true,
   "language": "python",
   "sourceType": "notebook"
  },
  "kernelspec": {
   "display_name": "Python 3",
   "language": "python",
   "name": "python3"
  },
  "language_info": {
   "codemirror_mode": {
    "name": "ipython",
    "version": 3
   },
   "file_extension": ".py",
   "mimetype": "text/x-python",
   "name": "python",
   "nbconvert_exporter": "python",
   "pygments_lexer": "ipython3",
   "version": "3.7.12"
  },
  "papermill": {
   "default_parameters": {},
   "duration": 36.463686,
   "end_time": "2025-09-20T23:28:17.104937",
   "environment_variables": {},
   "exception": null,
   "input_path": "__notebook__.ipynb",
   "output_path": "__notebook__.ipynb",
   "parameters": {},
   "start_time": "2025-09-20T23:27:40.641251",
   "version": "2.3.3"
  }
 },
 "nbformat": 4,
 "nbformat_minor": 5
}
